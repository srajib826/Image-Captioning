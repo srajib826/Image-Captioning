{
 "cells": [
  {
   "cell_type": "code",
   "execution_count": 1,
   "metadata": {},
   "outputs": [
    {
     "name": "stderr",
     "output_type": "stream",
     "text": [
      "/home/rajib/miniconda3/envs/dl_project/lib/python3.12/site-packages/tqdm/auto.py:21: TqdmWarning: IProgress not found. Please update jupyter and ipywidgets. See https://ipywidgets.readthedocs.io/en/stable/user_install.html\n",
      "  from .autonotebook import tqdm as notebook_tqdm\n"
     ]
    },
    {
     "name": "stdout",
     "output_type": "stream",
     "text": [
      "There are 1 GPU(s) available.\n",
      "We will use the GPU: NVIDIA RTX A4500\n"
     ]
    }
   ],
   "source": [
    "import os\n",
    "\n",
    "\n",
    "import numpy as np\n",
    "import pandas as pd\n",
    "from PIL import Image\n",
    "from pathlib import Path\n",
    "from tqdm.auto import tqdm\n",
    "import multiprocessing as mp\n",
    "import matplotlib.pyplot as plt\n",
    "from sklearn.model_selection import train_test_split\n",
    "\n",
    "import torch\n",
    "import torch.nn as nn\n",
    "import torch.nn.functional as F\n",
    "from torchvision import io, transforms\n",
    "from torch.utils.data import Dataset, DataLoader, random_split\n",
    "import transformers\n",
    "\n",
    "from transformers import Seq2SeqTrainer ,Seq2SeqTrainingArguments\n",
    "from transformers import VisionEncoderDecoderModel , ViTFeatureExtractor\n",
    "from transformers import AutoTokenizer ,  GPT2Config , default_data_collator\n",
    "\n",
    "\n",
    "if torch.cuda.is_available():    \n",
    "\n",
    "    device = torch.device(\"cuda\")\n",
    "\n",
    "    print('There are %d GPU(s) available.' % torch.cuda.device_count())\n",
    "\n",
    "    print('We will use the GPU:', torch.cuda.get_device_name(0))\n",
    "\n",
    "else:\n",
    "    print('No GPU available, using the CPU instead.')\n",
    "    device = torch.device(\"cpu\")\n"
   ]
  },
  {
   "cell_type": "markdown",
   "metadata": {},
   "source": [
    "## Custom Dataset creation"
   ]
  },
  {
   "cell_type": "code",
   "execution_count": 2,
   "metadata": {},
   "outputs": [],
   "source": [
    "import torch\n",
    "from PIL import Image\n",
    "from sklearn.model_selection import train_test_split\n",
    "from torch.utils.data import Dataset\n",
    "\n",
    "\n",
    "class Image_Caption_Dataset(Dataset):\n",
    "    def __init__(\n",
    "        self, root_dir, df_image,df_caption, feature_extractor, tokenizer, max_target_length=512\n",
    "    ):\n",
    "        self.root_dir = root_dir\n",
    "        self.df_image = df_image\n",
    "        self.df_caption = df_caption\n",
    "        self.feature_extractor = feature_extractor\n",
    "        self.tokenizer = tokenizer\n",
    "        self.max_length = max_target_length\n",
    "\n",
    "    def __len__(self):\n",
    "        return self.df_caption.shape[0]\n",
    "\n",
    "    def __getitem__(self, idx):\n",
    "        # return image\n",
    "        image_path = self.df_image[idx]\n",
    "        text = self.df_caption[idx]\n",
    "        # prepare image\n",
    "        image = Image.open(self.root_dir + \"/\" + image_path).convert(\"RGB\")\n",
    "        pixel_values = self.feature_extractor(image, return_tensors=\"pt\").pixel_values\n",
    "        # add captions by encoding the input\n",
    "        captions = self.tokenizer(\n",
    "            text, padding=\"max_length\", max_length=self.max_length\n",
    "        ).input_ids\n",
    "        captions = [\n",
    "            caption if caption != self.tokenizer.pad_token_id else -100\n",
    "            for caption in captions\n",
    "        ]\n",
    "        encoding = {\n",
    "            \"pixel_values\": pixel_values.squeeze(),\n",
    "            \"labels\": torch.tensor(captions),\n",
    "        }\n",
    "        return encoding\n",
    "\n",
    "\n"
   ]
  },
  {
   "cell_type": "code",
   "execution_count": 3,
   "metadata": {},
   "outputs": [],
   "source": [
    "df_train = pd.read_csv(\"/home/rajib/dl_project/custom_captions_dataset/train.csv\")\n",
    "df_test = pd.read_csv(\"/home/rajib/dl_project/custom_captions_dataset/test.csv\")\n",
    "df_val = pd.read_csv(\"/home/rajib/dl_project/custom_captions_dataset/val.csv\")\n",
    "\n",
    "train_df_image = df_train['filename']\n",
    "train_df_caption = df_train['caption']\n",
    "\n",
    "test_df_image = df_test['filename']\n",
    "test_df_caption = df_test['caption']\n",
    "\n",
    "val_df_image = df_val['filename']\n",
    "val_df_caption = df_val['caption']"
   ]
  },
  {
   "cell_type": "markdown",
   "metadata": {},
   "source": [
    "## Feature Extractor and Tokenizer"
   ]
  },
  {
   "cell_type": "code",
   "execution_count": 4,
   "metadata": {},
   "outputs": [
    {
     "name": "stderr",
     "output_type": "stream",
     "text": [
      "/home/rajib/miniconda3/envs/dl_project/lib/python3.12/site-packages/transformers/models/vit/feature_extraction_vit.py:28: FutureWarning: The class ViTFeatureExtractor is deprecated and will be removed in version 5 of Transformers. Please use ViTImageProcessor instead.\n",
      "  warnings.warn(\n"
     ]
    }
   ],
   "source": [
    "import pandas as pd\n",
    "from transformers import (AutoTokenizer, Seq2SeqTrainer,\n",
    "                          Seq2SeqTrainingArguments, VisionEncoderDecoderModel,\n",
    "                          ViTFeatureExtractor, default_data_collator)\n",
    "\n",
    "\n",
    "\n",
    "encoder_checkpoint = \"google/vit-base-patch16-224\"\n",
    "decoder_checkpoint = \"gpt2\"\n",
    "output_dir = \"./image_captioning_checkpoint\"\n",
    "# load feature extractor and tokenizer\n",
    "feature_extractor = ViTFeatureExtractor.from_pretrained(encoder_checkpoint)\n",
    "tokenizer = AutoTokenizer.from_pretrained(decoder_checkpoint)\n",
    "tokenizer.pad_token = tokenizer.eos_token\n",
    "\n"
   ]
  },
  {
   "cell_type": "markdown",
   "metadata": {},
   "source": [
    "## Dataset object creation"
   ]
  },
  {
   "cell_type": "markdown",
   "metadata": {},
   "source": [
    "### Train dataset"
   ]
  },
  {
   "cell_type": "code",
   "execution_count": 5,
   "metadata": {},
   "outputs": [],
   "source": [
    "root_dir_train = \"/home/rajib/dl_project/custom_captions_dataset/train\"\n",
    "train_df_image = train_df_image\n",
    "train_df_caption = train_df_caption\n",
    "trian_dataset = Image_Caption_Dataset(root_dir_train, train_df_image, train_df_caption,feature_extractor,tokenizer)"
   ]
  },
  {
   "cell_type": "code",
   "execution_count": 6,
   "metadata": {},
   "outputs": [
    {
     "data": {
      "text/plain": [
       "5715"
      ]
     },
     "execution_count": 6,
     "metadata": {},
     "output_type": "execute_result"
    }
   ],
   "source": [
    "len(trian_dataset)"
   ]
  },
  {
   "cell_type": "markdown",
   "metadata": {},
   "source": [
    "### Val dataset"
   ]
  },
  {
   "cell_type": "code",
   "execution_count": 7,
   "metadata": {},
   "outputs": [],
   "source": [
    "root_dir_val = \"/home/rajib/dl_project/custom_captions_dataset/val\"\n",
    "val_df_image = val_df_image\n",
    "val_df_caption = val_df_caption\n",
    "val_dataset = Image_Caption_Dataset(root_dir_val, val_df_image, val_df_caption,feature_extractor,tokenizer)"
   ]
  },
  {
   "cell_type": "markdown",
   "metadata": {},
   "source": [
    "## Training "
   ]
  },
  {
   "cell_type": "code",
   "execution_count": 8,
   "metadata": {},
   "outputs": [
    {
     "name": "stderr",
     "output_type": "stream",
     "text": [
      "Some weights of ViTModel were not initialized from the model checkpoint at google/vit-base-patch16-224 and are newly initialized: ['vit.pooler.dense.bias', 'vit.pooler.dense.weight']\n",
      "You should probably TRAIN this model on a down-stream task to be able to use it for predictions and inference.\n",
      "Some weights of GPT2LMHeadModel were not initialized from the model checkpoint at gpt2 and are newly initialized: ['h.0.crossattention.c_attn.bias', 'h.0.crossattention.c_attn.weight', 'h.0.crossattention.c_proj.bias', 'h.0.crossattention.c_proj.weight', 'h.0.crossattention.q_attn.bias', 'h.0.crossattention.q_attn.weight', 'h.0.ln_cross_attn.bias', 'h.0.ln_cross_attn.weight', 'h.1.crossattention.c_attn.bias', 'h.1.crossattention.c_attn.weight', 'h.1.crossattention.c_proj.bias', 'h.1.crossattention.c_proj.weight', 'h.1.crossattention.q_attn.bias', 'h.1.crossattention.q_attn.weight', 'h.1.ln_cross_attn.bias', 'h.1.ln_cross_attn.weight', 'h.10.crossattention.c_attn.bias', 'h.10.crossattention.c_attn.weight', 'h.10.crossattention.c_proj.bias', 'h.10.crossattention.c_proj.weight', 'h.10.crossattention.q_attn.bias', 'h.10.crossattention.q_attn.weight', 'h.10.ln_cross_attn.bias', 'h.10.ln_cross_attn.weight', 'h.11.crossattention.c_attn.bias', 'h.11.crossattention.c_attn.weight', 'h.11.crossattention.c_proj.bias', 'h.11.crossattention.c_proj.weight', 'h.11.crossattention.q_attn.bias', 'h.11.crossattention.q_attn.weight', 'h.11.ln_cross_attn.bias', 'h.11.ln_cross_attn.weight', 'h.2.crossattention.c_attn.bias', 'h.2.crossattention.c_attn.weight', 'h.2.crossattention.c_proj.bias', 'h.2.crossattention.c_proj.weight', 'h.2.crossattention.q_attn.bias', 'h.2.crossattention.q_attn.weight', 'h.2.ln_cross_attn.bias', 'h.2.ln_cross_attn.weight', 'h.3.crossattention.c_attn.bias', 'h.3.crossattention.c_attn.weight', 'h.3.crossattention.c_proj.bias', 'h.3.crossattention.c_proj.weight', 'h.3.crossattention.q_attn.bias', 'h.3.crossattention.q_attn.weight', 'h.3.ln_cross_attn.bias', 'h.3.ln_cross_attn.weight', 'h.4.crossattention.c_attn.bias', 'h.4.crossattention.c_attn.weight', 'h.4.crossattention.c_proj.bias', 'h.4.crossattention.c_proj.weight', 'h.4.crossattention.q_attn.bias', 'h.4.crossattention.q_attn.weight', 'h.4.ln_cross_attn.bias', 'h.4.ln_cross_attn.weight', 'h.5.crossattention.c_attn.bias', 'h.5.crossattention.c_attn.weight', 'h.5.crossattention.c_proj.bias', 'h.5.crossattention.c_proj.weight', 'h.5.crossattention.q_attn.bias', 'h.5.crossattention.q_attn.weight', 'h.5.ln_cross_attn.bias', 'h.5.ln_cross_attn.weight', 'h.6.crossattention.c_attn.bias', 'h.6.crossattention.c_attn.weight', 'h.6.crossattention.c_proj.bias', 'h.6.crossattention.c_proj.weight', 'h.6.crossattention.q_attn.bias', 'h.6.crossattention.q_attn.weight', 'h.6.ln_cross_attn.bias', 'h.6.ln_cross_attn.weight', 'h.7.crossattention.c_attn.bias', 'h.7.crossattention.c_attn.weight', 'h.7.crossattention.c_proj.bias', 'h.7.crossattention.c_proj.weight', 'h.7.crossattention.q_attn.bias', 'h.7.crossattention.q_attn.weight', 'h.7.ln_cross_attn.bias', 'h.7.ln_cross_attn.weight', 'h.8.crossattention.c_attn.bias', 'h.8.crossattention.c_attn.weight', 'h.8.crossattention.c_proj.bias', 'h.8.crossattention.c_proj.weight', 'h.8.crossattention.q_attn.bias', 'h.8.crossattention.q_attn.weight', 'h.8.ln_cross_attn.bias', 'h.8.ln_cross_attn.weight', 'h.9.crossattention.c_attn.bias', 'h.9.crossattention.c_attn.weight', 'h.9.crossattention.c_proj.bias', 'h.9.crossattention.c_proj.weight', 'h.9.crossattention.q_attn.bias', 'h.9.crossattention.q_attn.weight', 'h.9.ln_cross_attn.bias', 'h.9.ln_cross_attn.weight']\n",
      "You should probably TRAIN this model on a down-stream task to be able to use it for predictions and inference.\n",
      "/home/rajib/miniconda3/envs/dl_project/lib/python3.12/site-packages/accelerate/accelerator.py:436: FutureWarning: Passing the following arguments to `Accelerator` is deprecated and will be removed in version 1.0 of Accelerate: dict_keys(['dispatch_batches', 'split_batches', 'even_batches', 'use_seedable_sampler']). Please pass an `accelerate.DataLoaderConfiguration` instead: \n",
      "dataloader_config = DataLoaderConfiguration(dispatch_batches=None, split_batches=False, even_batches=True, use_seedable_sampler=True)\n",
      "  warnings.warn(\n"
     ]
    },
    {
     "data": {
      "text/html": [
       "\n",
       "    <div>\n",
       "      \n",
       "      <progress value='4770' max='4770' style='width:300px; height:20px; vertical-align: middle;'></progress>\n",
       "      [4770/4770 34:03, Epoch 10/10]\n",
       "    </div>\n",
       "    <table border=\"1\" class=\"dataframe\">\n",
       "  <thead>\n",
       " <tr style=\"text-align: left;\">\n",
       "      <th>Step</th>\n",
       "      <th>Training Loss</th>\n",
       "      <th>Validation Loss</th>\n",
       "    </tr>\n",
       "  </thead>\n",
       "  <tbody>\n",
       "    <tr>\n",
       "      <td>2000</td>\n",
       "      <td>2.231500</td>\n",
       "      <td>2.360497</td>\n",
       "    </tr>\n",
       "    <tr>\n",
       "      <td>4000</td>\n",
       "      <td>1.752900</td>\n",
       "      <td>2.475226</td>\n",
       "    </tr>\n",
       "  </tbody>\n",
       "</table><p>"
      ],
      "text/plain": [
       "<IPython.core.display.HTML object>"
      ]
     },
     "metadata": {},
     "output_type": "display_data"
    },
    {
     "name": "stderr",
     "output_type": "stream",
     "text": [
      "Some non-default generation parameters are set in the model config. These should go into a GenerationConfig file (https://huggingface.co/docs/transformers/generation_strategies#save-a-custom-decoding-strategy-with-your-model) instead. This warning will be raised to an exception in v4.41.\n",
      "Non-default generation parameters: {'max_length': 512, 'early_stopping': True, 'num_beams': 5, 'length_penalty': 2.0, 'no_repeat_ngram_size': 3}\n",
      "Your generation config was originally created from the model config, but the model config has changed since then. Unless you pass the `generation_config` argument to this model's `generate` calls, they will revert to the legacy behavior where the base `generate` parameterization is loaded from the model config instead. To avoid this behavior and this warning, we recommend you to overwrite the generation config model attribute before calling the model's `save_pretrained`, preferably also removing any generation kwargs from the model config. This warning will be raised to an exception in v4.41.\n",
      "Removed shared tensor {'decoder.lm_head.weight'} while saving. This should be OK, but check by verifying that you don't receive any warning while reloading\n",
      "Some non-default generation parameters are set in the model config. These should go into a GenerationConfig file (https://huggingface.co/docs/transformers/generation_strategies#save-a-custom-decoding-strategy-with-your-model) instead. This warning will be raised to an exception in v4.41.\n",
      "Non-default generation parameters: {'max_length': 512, 'early_stopping': True, 'num_beams': 5, 'length_penalty': 2.0, 'no_repeat_ngram_size': 3}\n",
      "Your generation config was originally created from the model config, but the model config has changed since then. Unless you pass the `generation_config` argument to this model's `generate` calls, they will revert to the legacy behavior where the base `generate` parameterization is loaded from the model config instead. To avoid this behavior and this warning, we recommend you to overwrite the generation config model attribute before calling the model's `save_pretrained`, preferably also removing any generation kwargs from the model config. This warning will be raised to an exception in v4.41.\n",
      "There were missing keys in the checkpoint model loaded: ['decoder.lm_head.weight'].\n"
     ]
    }
   ],
   "source": [
    "\n",
    "# initialize a vit-bert from a pretrained ViT and a pretrained GPT2 model\n",
    "model = VisionEncoderDecoderModel.from_encoder_decoder_pretrained(\n",
    "    encoder_checkpoint, decoder_checkpoint\n",
    ")\n",
    "# set special tokens used for creating the decoder_input_ids from the labels\n",
    "model.config.decoder_start_token_id = tokenizer.bos_token_id\n",
    "model.config.pad_token_id = tokenizer.pad_token_id\n",
    "# make sure vocab size is set correctly\n",
    "model.config.vocab_size = model.config.decoder.vocab_size\n",
    "\n",
    "# set beam search parameters\n",
    "model.config.eos_token_id = tokenizer.sep_token_id\n",
    "model.config.max_length = 512\n",
    "model.config.early_stopping = True\n",
    "model.config.no_repeat_ngram_size = 3\n",
    "model.config.length_penalty = 2.0\n",
    "model.config.num_beams = 5\n",
    "model.decoder.resize_token_embeddings(len(tokenizer))\n",
    "\n",
    "# freeze the encoder\n",
    "for param in model.encoder.parameters():\n",
    "    param.requires_grad = False\n",
    "\n",
    "\n",
    "training_args = Seq2SeqTrainingArguments(\n",
    "    predict_with_generate=True,\n",
    "    evaluation_strategy=\"steps\",\n",
    "    per_device_train_batch_size=12,\n",
    "    num_train_epochs=10,\n",
    "    per_device_eval_batch_size=12,\n",
    "    overwrite_output_dir=True,\n",
    "    fp16=True,\n",
    "    run_name=\"first_run\",\n",
    "    load_best_model_at_end=True,\n",
    "    output_dir=output_dir,\n",
    "    logging_steps=2000,\n",
    "    save_steps=2000,\n",
    "    eval_steps=2000,\n",
    ")\n",
    "\n",
    "\n",
    "if __name__ == \"__main__\":\n",
    "    # instantiate trainer\n",
    "    trainer = Seq2SeqTrainer(\n",
    "        model=model,\n",
    "        tokenizer=feature_extractor,\n",
    "        args=training_args,\n",
    "        train_dataset=trian_dataset,\n",
    "        eval_dataset=val_dataset,\n",
    "        data_collator=default_data_collator,\n",
    "    )\n",
    "    trainer.train()"
   ]
  },
  {
   "cell_type": "code",
   "execution_count": 9,
   "metadata": {},
   "outputs": [
    {
     "name": "stderr",
     "output_type": "stream",
     "text": [
      "/home/rajib/miniconda3/envs/dl_project/lib/python3.12/site-packages/transformers/models/vit/feature_extraction_vit.py:28: FutureWarning: The class ViTFeatureExtractor is deprecated and will be removed in version 5 of Transformers. Please use ViTImageProcessor instead.\n",
      "  warnings.warn(\n"
     ]
    }
   ],
   "source": [
    "\n",
    "import torch\n",
    "from PIL import Image\n",
    "from transformers import (AutoTokenizer, VisionEncoderDecoderModel,\n",
    "                          ViTFeatureExtractor)\n",
    "\n",
    "if torch.cuda.is_available():\n",
    "    device = \"cuda\"\n",
    "else:\n",
    "    device = \"cpu\"\n",
    "\n",
    "\n",
    "encoder_checkpoint = \"google/vit-base-patch16-224\"\n",
    "decoder_checkpoint = \"gpt2\"\n",
    "model_checkpoint = \"/home/rajib/dl_project/image_captioning_checkpoint/checkpoint-2000\"\n",
    "feature_extractor = ViTFeatureExtractor.from_pretrained(encoder_checkpoint)\n",
    "tokenizer = AutoTokenizer.from_pretrained(decoder_checkpoint)\n",
    "model = VisionEncoderDecoderModel.from_pretrained(model_checkpoint).to(device)\n",
    "\n",
    "\n"
   ]
  },
  {
   "cell_type": "code",
   "execution_count": 10,
   "metadata": {},
   "outputs": [
    {
     "data": {
      "text/plain": [
       "'This is a black and white photograph of a very old biplane taking off from a flat field. There is some sort of crop growing in the field, but it is indiscernable. The plane itself says \"America\" on its side. There is a star emblem on its tail as well as underneath the visible wing. The plane is only about 20 feet off the ground. '"
      ]
     },
     "execution_count": 10,
     "metadata": {},
     "output_type": "execute_result"
    }
   ],
   "source": [
    "test_images = test_df_image.tolist()\n",
    "test_image_path = \"/home/rajib/dl_project/custom_captions_dataset/test\"\n",
    "test_images = [os.path.join(test_image_path, image) for image in test_images]\n",
    "test_caption = test_df_caption.tolist()\n",
    "test_images.pop(388)\n",
    "test_images.pop(486-1)\n",
    "test_images.pop(924-2)\n",
    "test_caption.pop(388)\n",
    "test_caption.pop(486-1)\n",
    "test_caption.pop(924-2)"
   ]
  },
  {
   "cell_type": "code",
   "execution_count": 11,
   "metadata": {},
   "outputs": [],
   "source": [
    "def predict(image):\n",
    "    \n",
    "    clean_text = lambda x: x.replace(\"<|endoftext|>\", \"\").split(\"\\n\")[0]\n",
    "    sample = feature_extractor(image, return_tensors=\"pt\").pixel_values.to(device)\n",
    "    caption_ids = model.generate(sample, max_length=50)[0]\n",
    "    caption_text = clean_text(tokenizer.decode(caption_ids))\n",
    "    return caption_text"
   ]
  },
  {
   "cell_type": "markdown",
   "metadata": {},
   "source": [
    "## Generate Captions for the test set"
   ]
  },
  {
   "cell_type": "code",
   "execution_count": 12,
   "metadata": {},
   "outputs": [
    {
     "name": "stderr",
     "output_type": "stream",
     "text": [
      "  0%|          | 0/925 [00:00<?, ?it/s]/home/rajib/miniconda3/envs/dl_project/lib/python3.12/site-packages/transformers/generation/utils.py:1197: UserWarning: You have modified the pretrained model configuration to control generation. This is a deprecated strategy to control generation and will be removed soon, in a future version. Please use and modify the model generation configuration (see https://huggingface.co/docs/transformers/generation_strategies#default-text-generation-configuration )\n",
      "  warnings.warn(\n",
      "100%|██████████| 925/925 [05:00<00:00,  3.08it/s]\n"
     ]
    }
   ],
   "source": [
    "\n",
    "exception_list = []\n",
    "\n",
    "generated_caption_list = list()\n",
    "\n",
    "for i in tqdm(range(len(test_images))):\n",
    "    x = Image.open(test_images[i])\n",
    "    generated_caption_list.append(predict(x))\n",
    "        "
   ]
  },
  {
   "cell_type": "markdown",
   "metadata": {},
   "source": [
    "### ROUGE L"
   ]
  },
  {
   "cell_type": "code",
   "execution_count": 13,
   "metadata": {},
   "outputs": [
    {
     "name": "stdout",
     "output_type": "stream",
     "text": [
      "0.28700664117916097\n"
     ]
    }
   ],
   "source": [
    "import evaluate\n",
    "rouge = evaluate.load('rouge')\n",
    "\n",
    "results = rouge.compute(predictions = generated_caption_list, references = test_caption)\n",
    "print(results['rougeL'])"
   ]
  },
  {
   "cell_type": "markdown",
   "metadata": {},
   "source": [
    "### Converting corpus list to dictionary (metric input format)"
   ]
  },
  {
   "cell_type": "code",
   "execution_count": 14,
   "metadata": {},
   "outputs": [],
   "source": [
    "idRef, idGen = 0, 0\n",
    "reference_captions_dict = dict()\n",
    "for x in test_caption:\n",
    "    tempRef = [x]\n",
    "    reference_captions_dict[idRef] = tempRef\n",
    "    idRef +=1\n",
    "\n",
    "generated_captions_dict = dict()\n",
    "for x in generated_caption_list:\n",
    "    tempGen = [x]\n",
    "    generated_captions_dict[idGen] = tempGen\n",
    "    idGen +=1"
   ]
  },
  {
   "cell_type": "markdown",
   "metadata": {},
   "source": [
    "### CIDEr"
   ]
  },
  {
   "cell_type": "code",
   "execution_count": 15,
   "metadata": {},
   "outputs": [
    {
     "name": "stdout",
     "output_type": "stream",
     "text": [
      "CIDEr scores:\n",
      "0.09645651993133295\n"
     ]
    }
   ],
   "source": [
    "from pycocoevalcap.cider.cider import Cider\n",
    "cider = Cider()\n",
    "scores, scores_per_image = cider.compute_score(reference_captions_dict, generated_captions_dict)\n",
    "print(\"CIDEr scores:\")\n",
    "print(scores)"
   ]
  },
  {
   "cell_type": "code",
   "execution_count": 17,
   "metadata": {},
   "outputs": [],
   "source": [
    "import warnings\n",
    "warnings.filterwarnings(\"ignore\", category=UserWarning)"
   ]
  },
  {
   "cell_type": "markdown",
   "metadata": {},
   "source": [
    "### SPICE"
   ]
  },
  {
   "cell_type": "code",
   "execution_count": 18,
   "metadata": {},
   "outputs": [
    {
     "name": "stderr",
     "output_type": "stream",
     "text": [
      "WARNING: An illegal reflective access operation has occurred\n",
      "WARNING: Illegal reflective access by org.nustaq.serialization.FSTClazzInfo (file:/home/rajib/miniconda3/envs/dl_project/lib/python3.12/site-packages/pycocoevalcap/spice/lib/fst-2.47.jar) to field java.lang.String.value\n",
      "WARNING: Please consider reporting this to the maintainers of org.nustaq.serialization.FSTClazzInfo\n",
      "WARNING: Use --illegal-access=warn to enable warnings of further illegal reflective access operations\n",
      "WARNING: All illegal access operations will be denied in a future release\n",
      "Parsing reference captions\n",
      "Initiating Stanford parsing pipeline\n",
      "[main] INFO edu.stanford.nlp.pipeline.StanfordCoreNLP - Adding annotator tokenize\n",
      "[main] INFO edu.stanford.nlp.pipeline.TokenizerAnnotator - TokenizerAnnotator: No tokenizer type provided. Defaulting to PTBTokenizer.\n",
      "[main] INFO edu.stanford.nlp.pipeline.StanfordCoreNLP - Adding annotator ssplit\n",
      "[main] INFO edu.stanford.nlp.pipeline.StanfordCoreNLP - Adding annotator parse\n",
      "[main] INFO edu.stanford.nlp.parser.common.ParserGrammar - Loading parser from serialized file edu/stanford/nlp/models/lexparser/englishPCFG.ser.gz ... \n",
      "done [0.2 sec].\n",
      "[main] INFO edu.stanford.nlp.pipeline.StanfordCoreNLP - Adding annotator lemma\n",
      "[main] INFO edu.stanford.nlp.pipeline.StanfordCoreNLP - Adding annotator ner\n",
      "Loading classifier from edu/stanford/nlp/models/ner/english.all.3class.distsim.crf.ser.gz ... done [0.5 sec].\n",
      "Loading classifier from edu/stanford/nlp/models/ner/english.muc.7class.distsim.crf.ser.gz ... done [0.2 sec].\n",
      "Loading classifier from edu/stanford/nlp/models/ner/english.conll.4class.distsim.crf.ser.gz ... done [0.3 sec].\n",
      "Threads( StanfordCoreNLP ) [8.351 seconds]\n",
      "Error: Could not cache item to /home/rajib/miniconda3/envs/dl_project/lib/python3.12/site-packages/pycocoevalcap/spice/cache with key:\n",
      "\"Three men are airborne on top of white ski boards. They are jumping in different directions, one ski angled to the left, the other two towards the front. They are wearing thick winter protective clothing and helmets to protect themselves in case of a fall. The sun is glowing against the pile of white snow they are above. There is an expanse of white glowing snow in front of the pile with people wearing dark winter clothing walking and skiing. A large hill in the background displays patches of dark, snow covered trees running down the slope. The sky is heavy and grey with clouds. \n",
      "\"\n",
      "Caption may be too long\n",
      "Error: Could not cache item to /home/rajib/miniconda3/envs/dl_project/lib/python3.12/site-packages/pycocoevalcap/spice/cache with key:\n",
      "\"This image is of a city bus. The front of the bus has a large windshield window. There is a marquee display above the window that reads 44 BEALINE. There is a blue and white license plate below the grill of the bus. The license plate reads CR-526-AX. Both front headlights are turned on. The driver is visible through the front windshield window. She has short hair and is wearing a black jacket. The passenger directly in front of her is a man that is wearing a black jacket with white sleeves and he has short hair. The door is open on the bus and there is an older man waiting on the bottom step to get on the bus. He is wearing a black jacket and jeans. He is also carrying a black and white Adidas messenger bag.\"\n",
      "Caption may be too long\n",
      "Error: Could not cache item to /home/rajib/miniconda3/envs/dl_project/lib/python3.12/site-packages/pycocoevalcap/spice/cache with key:\n",
      "\"There is a bald white man with a goatee and beard. He is handing a styrofoam plate with something white on it to an unseen person with his left hand. In his right hand he is holding a large butcher knife. The blade is red and sticky looking.It has unidentified white chunks hanging from it. O the coffee table in front of the man are several more plates holding triangular shaped food - maybe pizza or cake. There is also a water bottle. There are more people sitting across from the man, but only there legs are visible.\"\n",
      "Caption may be too long\n",
      "Error: Could not cache item to /home/rajib/miniconda3/envs/dl_project/lib/python3.12/site-packages/pycocoevalcap/spice/cache with key:\n",
      "\"There is a very large light brown stuffed teddy bear sitting in the corner of a room and on a bed. There's a big brown bow wrapped around the teddy bear, and it matches the bears big, brown nose. The teddy bear has small black eyes, and long and fat arms that hang to his side and legs that are in front of him. The bed sheet the bear is sitting on is green, and there's a nearby pillow with a yellow pillowcase that has white polkadots. The walls are painted blue with a painted treed on the right side of the corner and it has 3 large branches with 13 green leaves and 2 red flowers scattered on it. To the left corner of the wall is a green lamp that has 2 white clouds on it and it hangs above and to the left of the sitting teddy bear. At the lower half of the wall there is white bead boarding and a white chair rail.\"\n",
      "Caption may be too long\n",
      "Error: Could not cache item to /home/rajib/miniconda3/envs/dl_project/lib/python3.12/site-packages/pycocoevalcap/spice/cache with key:\n",
      "\"Passengers are seated in a mass transit bus traveling down the street.  The driver is seated on the left hand side in an enclosure.  He is visible through the reflection from a rear view mirror.  The farebox is next to the enclosure.  A television monitor is behind the driver, and is turned on.  A woman sits on a seat mounted atop the wheel well.  She has placed a white plastic bag on the floor. A passenger seated behind her is resting his or her foot on the well.  The bus has blue vertical poles for standing passengers to use.  Some bus straps are also suspended from the ceiling for passenger use. It is daytime.  \"\n",
      "Caption may be too long\n",
      "Error: Could not cache item to /home/rajib/miniconda3/envs/dl_project/lib/python3.12/site-packages/pycocoevalcap/spice/cache with key:\n",
      "\"In this image, a downtown business district in an English speaking country is depicted. The image shows a narrow street with sidewalks on both sides, with customers walking up and down the sidewalks and going in and out of stores. The narrow street does not have any cars driving down it, but instead there is a train or streetcar running on rails. The train is white on the top and red on the bottom with a large glass windshield in front and smaller glass windows on the sides. It is coming up to an intersection. At the intersection, there is a sign that indicates only bicycles are allowed on the cross street. All the people in the picture are wearing lightweight jackets, so it must be fall or spring, as there is no snow or rain. There is a store called Dreams, and a sign advertising beds, though it is difficult to tell if they are beds for sale or rooms for rent. If I had to guess, I'd say this is an English speaking country in Europe. \"\n",
      "Caption may be too long\n",
      "Error: Could not cache item to /home/rajib/miniconda3/envs/dl_project/lib/python3.12/site-packages/pycocoevalcap/spice/cache with key:\n",
      "\"A white topped surface is topped with several dozen long sheaves of wheat in the upper left hand corner of the image. In front of the wheat stands a small sign that says, \"Please Do Not Touch\"  A larger sign in front of the wheat says \"Wheat Weaving.\" Next to this sign is a spool of silver thread. In front of the spool of thread lies a pair of green handled scissors. Next to the scissors and in the foreground lie a couple of woven articles which look to be the same size as a bracelet. The wheat has been already fully woven in these.\"\n",
      "Caption may be too long\n",
      "Error: Could not cache item to /home/rajib/miniconda3/envs/dl_project/lib/python3.12/site-packages/pycocoevalcap/spice/cache with key:\n",
      "\"A tennis match is about to begin on an outdoor court. It is a clear day with a blue sky and small fluffy clouds. In the background there are white outbuildings with gray, metal roofs surrounded by trees. Nearer to the court, on a grassy slope,there are several rows of spectators dressed casually and for mild weather. The spectators sit on the ground or in chairs. In the foreground is the tennis court. The playing surface is natural grass with white lines that shows wear in some areas where play is frequent. The court is surrounded on the spectator side by a low green carrier. To the left of the spectator side, the court is surrounded by a higher, dark barrier. People wait along this barrier to enter the court to retrieve balls. On the court two players are present along with one official or coach. One player is warming up by tossing the ball in the air to hit. The other is standing next to the official. A full court net separates them. Because of the time of day, and direction of the sun, people cast shadows across the court.\"\n",
      "Caption may be too long\n",
      "Error: Could not cache item to /home/rajib/miniconda3/envs/dl_project/lib/python3.12/site-packages/pycocoevalcap/spice/cache with key:\n",
      "\"There is a vase on the table. The vase is tan and black. There's a rock to the left side of the face. There are flowers in the vase. The flowers are bright yellow. The flowers have leaves on them. The leaves are thick and green and healthy. The table that the flowers are on has a tablecloth on it. The tablecloth is red white and blue. The tablecloth is red with white lines and a big blue line on it. There are chairs at the table. There are two chairs all together. To the right of the table are two windows. The wall under the windows is green.\"\n",
      "Caption may be too long\n",
      "Error: Could not cache item to /home/rajib/miniconda3/envs/dl_project/lib/python3.12/site-packages/pycocoevalcap/spice/cache with key:\n",
      "\"There are four men sitting at a table eating and socializing. The man at the far left is wearing a brown long sleeve shirt. The man to his right has on a black and white jacket and a plaid shirt. He is also wearing eye glasses and has a beard on his face. The man next to the man wearing eye glasses is wearing a long sleeve black shirt and is facing the man wearing eye glasses. His face is not visible. The man to the far right is wearing a long sleeve gray shirt. His eyes are squinting in the direction of the other three men probably because of the brightness of the shining sun. It is a very sunny day. It appears the setting is an outdoor area of a restaurant.\"\n",
      "Caption may be too long\n",
      "Error: Could not cache item to /home/rajib/miniconda3/envs/dl_project/lib/python3.12/site-packages/pycocoevalcap/spice/cache with key:\n",
      "\"A young girl in a bright orange t-shirt is standing on a tiny child's skateboard while a woman in a pair of blue jeans and a patterned top kneels with one knee on the floor anf holds the girl steady, her right hand under the girls right arm and her left hand on the girls left hip. They are in a living room on a beige mat with a black border. Behind them is a small table with a telephone, calendar and writing pads. In the far distance is a wooden rocking chair. Both the people in the shot are looking up at something.\"\n",
      "Caption may be too long\n",
      "Error: Could not cache item to /home/rajib/miniconda3/envs/dl_project/lib/python3.12/site-packages/pycocoevalcap/spice/cache with key:\n",
      "\"A person is in mid air in a jump pose with a snowboard attached to their feet.  The person is wearing a black hat, pants, gloves and red jacket.  The person is in the air above a snow covered steep ski slope.  The sky is white with clouds and a few sections of pastel blue.  The sun is in the background and glowing as a white round and bright circle in the sky with a white haze of clouds over it.  A ornate type graphic in green-yellow and pink lettering is at the bottom of the ski slope.  Trails of narrow white lines are in the sky with the clouds.  Another person can be see in the background at the bottom of the slope in the background.\"\n",
      "Caption may be too long\n",
      "Error: Could not cache item to /home/rajib/miniconda3/envs/dl_project/lib/python3.12/site-packages/pycocoevalcap/spice/cache with key:\n",
      "\"The image is a pencil outlining of a baseball player on a baseball field at  home base. The sketch appears like a comic strip picture that has not been colored in. The baseball player has the baseball bat raised in the air and is looking towards the direction of where the pitcher would be standing. The uniform of the player has the letters \"ARAI\" on the back of the shirt with the number 25. Both the shirt and the pants are striped. The player is also wearing a baseball helmet on his head and gloves on his hands.\"\n",
      "Caption may be too long\n",
      "Error: Could not cache item to /home/rajib/miniconda3/envs/dl_project/lib/python3.12/site-packages/pycocoevalcap/spice/cache with key:\n",
      "\"This photo was taken in the kitchen. The photo was taken in the daytime. There are three lights hanging from the ceiling. There is a long marble counter in the middle with wood cabinets a silver dishwasher and a double sink on the left. There is a bowl on apples on that long counter. On the left there is a silver stove in the middle with two woos cabinet units on each side. Above the stove is more cabinets. The walls are painted yellow and the door and trimming is white. On the right there are two windows.\"\n",
      "Caption may be too long\n",
      "Error: Could not cache item to /home/rajib/miniconda3/envs/dl_project/lib/python3.12/site-packages/pycocoevalcap/spice/cache with key:\n",
      "\"A long food banquet table is covered in a white tablecloth with long red cloth fringes.  The table is covered in food on metal platters.  In the center of the table are several raised bowls of food.  Next to the table in the foreground is another identical table with different food items.  Two large windows are on the wall next to the tables.  The windows have white sheer panels and dark blue curtains.  The room the table is in has red walls and hardwood floors.  A tall, green, decorated Christmas Trees  is against the wall next to the windows.  Another plain red table is in front of the Christmas tree with two tall glass bowls filled with oranges on it.\"\n",
      "Caption may be too long\n",
      "Error: Could not cache item to /home/rajib/miniconda3/envs/dl_project/lib/python3.12/site-packages/pycocoevalcap/spice/cache with key:\n",
      "\"On a crowded street, two buses, a motorcycle and a car are driving.  The car is small and black with gray hues.  The buses are blue and white with maroon trim.  Each bus has a large rear windshield and a ladder.  Several people are crossing the street between the vehicles.  A couple - the man in a black jacket, the woman in a red jacket and blue jeans, walk behind the blue bus.  Another man walks near the bumper of the blue bus.  All vehicles are oriented in the direction of a large, brown apartment building with several windows.\"\n",
      "Caption may be too long\n",
      "Error: Could not cache item to /home/rajib/miniconda3/envs/dl_project/lib/python3.12/site-packages/pycocoevalcap/spice/cache with key:\n",
      "\"A man is sitting in a white chair on the beach. The chair is in the sand.  He is wearing a black shirt and dark colored shorts. He is reading. His arm is resting around the top of his head. He has a wedding ring on. Beside the man is a black and white umbrella. To the right of the umbrella is a boy wearing green. He looks like he is playing in the sand. Behind him is another umbrella which is red and white. In front of the boy is the water. In the distance is a building, and beyond that are hills. Also on the beach are gray stones and other white chairs. Behind the chairs are two poles. \"\n",
      "Caption may be too long\n",
      "Error: Could not cache item to /home/rajib/miniconda3/envs/dl_project/lib/python3.12/site-packages/pycocoevalcap/spice/cache with key:\n",
      "\"Two giraffes are standing together but facing opposite directions. The both have brown patches laid out in different patterns. Some of the spots have smooth edges and some have irregular edges. There are small and large patches, with the smaller patches on their heads and upper part of their necks. Both animals have short furry manes running down the length of their necks. They also have short horns on the top of their heads. They are standing near the wooden fence of their pen surrounded by trees with many green leaves.\"\n",
      "Caption may be too long\n",
      "Error: Could not cache item to /home/rajib/miniconda3/envs/dl_project/lib/python3.12/site-packages/pycocoevalcap/spice/cache with key:\n",
      "\"There is a rectangular parachute in the top right of the image. The parachute is printed with what looks like a television channel 'stand-by' pattern. The sky behind the parachute is a deep blue color. There are some wispy clouds close to the ground. A person is looking into the distance from the ground with their hand shielding their eyes from the sun. This person is wearing a dark t-shirt and what looks to be denim shorts. It is difficult to ascertain the gender of this person, but they are probably male. The ground is sandy and covered in grey rocks and pebbles. Green grass and woodlands lie behind the sandy ground, and some low buildings or houses can be seen in the distance (lower right corner of the frame).\"\n",
      "Caption may be too long\n",
      "Error: Could not cache item to /home/rajib/miniconda3/envs/dl_project/lib/python3.12/site-packages/pycocoevalcap/spice/cache with key:\n",
      "\"A man is giving a thumbs up sign as he  rides a skateboard down the side of a busy car filled street.  The man is wearing a large false mustache that covers his mouth and a long beard.  The man is wearing a black hard helmet with a strap, a green backpack, a red t-shirt and brown shorts.  The red t-shirt has write lettering on it and a pair of sea green sneakers with white soles and laces.  Tall buildings, traffic lights, street lights and many cars are in the background.  Another person is standing behind the man and is wearing pink sneakers, and green pants.  The man in the foreground has a black camera bag strapped across his chest and is also wearing a black watch.\"\n",
      "Caption may be too long\n",
      "Error: Could not cache item to /home/rajib/miniconda3/envs/dl_project/lib/python3.12/site-packages/pycocoevalcap/spice/cache with key:\n",
      "\"A man with short brown hair sitting on a black piece of luggage. He is wearing a long sleeve black shirt with collar and black jeans with white tennis shoes that have a black stripe. He is holding an opened newspaper that he is reading. He is sitting on the piece of luggage in a large terminal with grey, black and yellow tiles on a floor. The floor goes a long way back. There is a train coming in the background on a track that runs in front of the man. Past the tracks is rows of dark windows. To the far left alongside the floor is bright orange cones next to pillars on the wall. \"\n",
      "Caption may be too long\n",
      "Error: Could not cache item to /home/rajib/miniconda3/envs/dl_project/lib/python3.12/site-packages/pycocoevalcap/spice/cache with key:\n",
      "\"A couple is posing at a formal black tie event. They are both enjoying themselves and smiling. The man is wearing a black tuxedo with a bow tie. He has short combed back brown hair and is wearing square black frame eyeglasses. The woman has on a black silk top with silver and crystal embellishments, she is also wearing a necklace and earrings that are also silver. Her hair is chin length and brown, she is wearing minimal make-up. The wall in the background is painted tan and has a framed painting hung on it.\"\n",
      "Caption may be too long\n",
      "Error: Could not cache item to /home/rajib/miniconda3/envs/dl_project/lib/python3.12/site-packages/pycocoevalcap/spice/cache with key:\n",
      "\"A small giraffe is looking to the right inside of a pen.  The pen appears to have an Egyptian theme.  There are two egyptian statues sitting on top of a stone seat.  The bottom of the stone seat has hand painted pictures of people and animals.  The seat is grey. To the right of the statues are egyptian style pictures on the wall.  To the left of the statues is an out crop of grey rocks.  The giraffe is brown and white with spots.  The ground is covered in dirt with small sections of green grass peeking through.  To the right of the giraffe is a tree.  The pen is surrounded by a black fence.  The fence has poles and three wires between each post.\"\n",
      "Caption may be too long\n",
      "Error: Could not cache item to /home/rajib/miniconda3/envs/dl_project/lib/python3.12/site-packages/pycocoevalcap/spice/cache with key:\n",
      "\"An antique steam locomotive is traveling along a set of tracks.  The locomotive is black and green.  It has a red sign in front with the number \"823\" on it, in yellow.  Smoke is coming out of the smokestack.  A man is behind the locomotive in the background, taking photos of something behind the train.  He is dressed in a red shirt and blue jeans.  Three buildings with gabled roofs are in the background.  Two are brick.  A switch throw is in front of one of the buildings, a single story structure.  It is sunny.\"\n",
      "Caption may be too long\n",
      "Error: Could not cache item to /home/rajib/miniconda3/envs/dl_project/lib/python3.12/site-packages/pycocoevalcap/spice/cache with key:\n",
      "\"There is a boy in the foreground of the picture. He has his back to the camera. He is wearing a blue short-sleeved shirt, blue shorts, blue socks, and white sneakers. He is standing in a green grassy field. The day is sunny and the sky is bright blue. The boy is getting a kite up into the air. The kite is black, white, red, orange, yellow, green, blue, and purple. In the distance there is a fence separating the grassy area from a hill. Behind the hill is an orange spherical hot air balloon. The hot air balloon's basket cannot be seen.\"\n",
      "Caption may be too long\n",
      "Error: Could not cache item to /home/rajib/miniconda3/envs/dl_project/lib/python3.12/site-packages/pycocoevalcap/spice/cache with key:\n",
      "\"The head and neck of a giraffe is seen behind a small knoll which is partially grassy area and partially rocky. There are two wooden poles in the grassy area, as well as two light green rectangles which may be steps. There is a strip of black material suspended between the poles. The giraffe is seen in profile. Its mouth is closed. There is grass and rocks visible behind the giraffe's head, as well as some dirt pathways and more grass. A number of tree trunks are seen rising upward from the grass behind the giraffe. \"\n",
      "Caption may be too long\n",
      "Error: Could not cache item to /home/rajib/miniconda3/envs/dl_project/lib/python3.12/site-packages/pycocoevalcap/spice/cache with key:\n",
      "\"This image is of a bathroom. There is a white toilet and sink which are situated next to each other on one wall. There is a window above the toilet which has a board over it. There is a mirror over the sink with an arched shaped to it. An empty toilet roll holder is hanging on the wall to the left of the toilet. There is a dirty rag laid flat under the sink which looks as though it has been placed to catch drips from under the sink. The bathroom door is visible and ajar, it has a brass colored door knob. The flooring is tile, mostly beige but with some accent colors included, and the walls are papered with an orange floral patterned paper.\"\n",
      "Caption may be too long\n",
      "Error: Could not cache item to /home/rajib/miniconda3/envs/dl_project/lib/python3.12/site-packages/pycocoevalcap/spice/cache with key:\n",
      "\"The view is an industrial area of a city and is under construction. To the right is a business with a yellow and blue billboard. In addition there is a flagpole with an American flag adjacent to the building. There are several vehicles in a parking lot in front of the business. To the left is a construction site that is fenced and barricaded off from the street. A tall, blue crane stretches into the blue, cloudy sky. In the foreground a stop sign with a sticker under the silver letters stands on a street corner. The sign casts a dark shadow on the sidewalk behind it.\"\n",
      "Caption may be too long\n",
      "Error: Could not cache item to /home/rajib/miniconda3/envs/dl_project/lib/python3.12/site-packages/pycocoevalcap/spice/cache with key:\n",
      "\"The street runs directly beneath the red-and-yellow arch with the \"towne center\" sign at its apex.  A shopping center is far in the distance behind the sign, and between the sign and the buildings is a vast, mostly empty parking lot.  More cars are visible toward the buildings, whereas there are very few in the proximity of the arch/sign.  Just before the red arch is a street sign that says \"end of city street\".  A sidewalk follows the road on its right, and just a few plants hint at a larger bit of decoration that's mostly unseen.  The road is appropriately painted with direction paint - yellow lane lines and brake-here marks on the road that goes off to the left from the arch.  \"\n",
      "Caption may be too long\n",
      "Error: Could not cache item to /home/rajib/miniconda3/envs/dl_project/lib/python3.12/site-packages/pycocoevalcap/spice/cache with key:\n",
      "\"A crowd is sitting in red chairs at a tennis match. There is a green wall separating the crowd and the tennis player. The tennis player is wearing a white shirt with black stripe and black design as well as white shorts with a black line.He has white, black and red sneakers as well as white socks with a black logo. He is wearing white wrist bands on his wrist as he about to serve the ball. His tennis racket red and black with a white handle. He is playing on a brown, sandy ground with white lines outlining the court.\"\n",
      "Caption may be too long\n",
      "Error: Could not cache item to /home/rajib/miniconda3/envs/dl_project/lib/python3.12/site-packages/pycocoevalcap/spice/cache with key:\n",
      "\"Many people are walking with raised umbrellas on a city street.  The umbrellas are a variety of colors.  The people are walking on a sidewalk lined with businesses in stone buildings.  The businesses and stores have awnings and several flag poles attached to the front of the businesses.  The flags are American flags.  To the right of the umbrellas is a city street lined with vehicles including one white van. On the sidewalk are also black traffic lights and street signs.  One street sign has a black and white arrow on it and the other sign is blue with white type.\"\n",
      "Caption may be too long\n",
      "Error: Could not cache item to /home/rajib/miniconda3/envs/dl_project/lib/python3.12/site-packages/pycocoevalcap/spice/cache with key:\n",
      "\"On top of a dark brown wood table sits a small plate with a dessert.  The plate is square shaped and white.  The edges come up and the center is lower than the sides.  On top of the plate is a small piece of cake.  The cake has a small orange decoration on top of it and a white frosting.  The cake is brown colored with darker brown at the top and the bottom of the cake.  A silver fork is resting upwards on the left bottom side of the white plate.  There is light focused on the back of the table and is shining onto the plate.  There are crumbs of the cake stuck to the white frosting.  \"\n",
      "Caption may be too long\n",
      "Error: Could not cache item to /home/rajib/miniconda3/envs/dl_project/lib/python3.12/site-packages/pycocoevalcap/spice/cache with key:\n",
      "\"Two small toddler boys are standing outside on a dirt and grass field. Several blow up amusement structures can be seen. One is a boucy one with a yellow front and another looks like a huge yellow and red blow up slide. One of the toddlers, who is dressed in an orange shirt and jeans, is holding a tennis racket in one hand, and a red and yellow ball in the other. Another racket lies on the ground next to him. An adult wearing white shorts and shirt stands near the toddlers, and another child and adult can be seen behind him.\"\n",
      "Caption may be too long\n",
      "Error: Could not cache item to /home/rajib/miniconda3/envs/dl_project/lib/python3.12/site-packages/pycocoevalcap/spice/cache with key:\n",
      "\"A red fire hydrant with a white top and a black knit cap on top of it sits on a sidewalk at the side of a parking lot.  The hydrant is casting a shadow on the sidewalk where leaves are scattered around it. There is a manhole cover a bit down from the hydrant.  Behind the manhole cover is a small area with small green shrubs and mostly covered by leaves.  At the end of the sidewalk are rows of cars with a store in the far back. A couple of people are near their cars in the parking lot.  At the end of one row of cars is a wooden fence with a brick building behind it. \"\n",
      "Caption may be too long\n",
      "Error: Could not cache item to /home/rajib/miniconda3/envs/dl_project/lib/python3.12/site-packages/pycocoevalcap/spice/cache with key:\n",
      "\"A young woman wearing a black bra mostly covered by a white tank top, and also wearing blue jeans and holding a pink cell phone to her ear is walking along a sidewalk. She is in front of a North Pacific Cellular store and another store in which numerous red shopping carts are lined up along its wall. Both stores have the same exterior of large windows and brown siding, and a white and red trim above the siding. The woman is being photographed at through the interior of a car, as the grey interior of a car window can be seen around the outside edges of the photograph. \"\n",
      "Caption may be too long\n",
      "Error: Could not cache item to /home/rajib/miniconda3/envs/dl_project/lib/python3.12/site-packages/pycocoevalcap/spice/cache with key:\n",
      "\"There is a large strip of grass along a road, with buildings, people, buses, trees and flags. The grass is very green and has something more overgrown like bushes that run along the road. The strip of road that is showing to the right of the picture is black. There are two large buses on the road. One bus is red with yellow words on it and the other is black. There are people in both buses, and along the grass and road. There are large trees running by the roads and buildings in the middle and back of the picture. There are two buildings showing. One building is on a street corner and is white with many stories. The other is to the left and is grey with many stories. There are two flag poles and one of them has a flag hanging on it.\"\n",
      "Caption may be too long\n",
      "Error: Could not cache item to /home/rajib/miniconda3/envs/dl_project/lib/python3.12/site-packages/pycocoevalcap/spice/cache with key:\n",
      "\"The image is of a telephone poll between two streets. The pole has a green and sign on it with white lettering that says \"E Main st 1700\" There is also a no parking sign attached to the pole. There are vertically striped awnings on both sides of the street. One awning covers produce stands, on the opposite side the awning is attached to a multilevel brick building. Behind the produce stand is a brown multilevel building with a brown stone facade and red roof tiles. The road is paved with cobblestones. There are several vehicles parked on the street.\"\n",
      "Caption may be too long\n",
      "Error: Could not cache item to /home/rajib/miniconda3/envs/dl_project/lib/python3.12/site-packages/pycocoevalcap/spice/cache with key:\n",
      "\"The image is of a light blue strainer on a wooden table that is holding two bananas and three peaches. There is a white curtain to the right of the strainer and a yellow squared tiled wall directly behind the wooden table. The handle on the strainer is silver appearing chrome and there are holes in the shape of circles near the bottom of the strainer. The strainer is resting on a cylinder shaped bottom, allowing it to stand on the wooden table. There is one silver screw on to the left of the bananas and one silver screw directly in front of the silver handle on the strainer.\"\n",
      "Caption may be too long\n",
      "Error: Could not cache item to /home/rajib/miniconda3/envs/dl_project/lib/python3.12/site-packages/pycocoevalcap/spice/cache with key:\n",
      "\"A group of people is standing outside at an amusement park that looks like Six Flags as there are large roller coasters in the background. It looks like a nice day with a sunny sky and no clouds. The group consists of 6 men, most of whom appear to be on the spectrum from overweight to obese. Their ages appear to range from 45 - 70 years old. Three gentleman are standing in front and three others are standing in back. They are wearing laynards with colorful badges around their necks. Four guys are wearing glasses and one is wearing sunglasses. Most are in casual, vacation attire, except for one guy who is wearing a tie. There are a couple other people in the background who appear to be in in line for something.\"\n",
      "Caption may be too long\n",
      "Error: Could not cache item to /home/rajib/miniconda3/envs/dl_project/lib/python3.12/site-packages/pycocoevalcap/spice/cache with key:\n",
      "\"A male tennis player is wiping his forehead with his wrist. He seems tired and is holding onto his tennis racket loosely. His shirt is blue and yellow, his hair short and brown. He has a white bracelet on. Near him are white and green advertisement banners that line a wall of a tennis court. Behind the banners are two fully visible red seats made of metal and cloth. Behind those are a white wall and behind the white wall are the basic seats of a sports stadium. Next to the seats is a long hallway leading down from the sports arena.\"\n",
      "Caption may be too long\n",
      "Error: Could not cache item to /home/rajib/miniconda3/envs/dl_project/lib/python3.12/site-packages/pycocoevalcap/spice/cache with key:\n",
      "\"An island kitchen featuring wood cabinetry with black drawer handles is neatly organized.   Three stainless steel pots rest side by side on a gas range on the island area with silver handled cooking utensils in them.  A pink dish containing some green leafy vegetable and other items also rest on the counter of the island.   In the corner is a pot holder with several pots and pans hung from it.  To the right of the pot holders is a large gas oven with range hood.  Along  the far wall are wooden cabinets and bottles resting on the counter beneath them.  \"\n",
      "Caption may be too long\n",
      "Error: Could not cache item to /home/rajib/miniconda3/envs/dl_project/lib/python3.12/site-packages/pycocoevalcap/spice/cache with key:\n",
      "\"The image is a black train with smoke coming out of the smoke spout at the top of the front of the train. There is a blue sign on the front of the train and a black number sign below the blue sign with the numbers 60009 on it. The conductor can be seen on the left side window of the train. He is wearing a blue shirt and there are two more train cars behind where he is located. The train car behind the conductor is green and the last visible car is maroon in color. The train is on the tracks and the gravel on the tracks is light brown. There are trees on the right side of the train and atop a grassy hill.\"\n",
      "Caption may be too long\n",
      "Error: Could not cache item to /home/rajib/miniconda3/envs/dl_project/lib/python3.12/site-packages/pycocoevalcap/spice/cache with key:\n",
      "\"This is a street corner. There are two street signs on a pole, with black text on a white background with a black rim. The one on top says \"Sandridge JMI School\" and the one on the bottom says \"HOSDB.\" They are both pointing in the same direction, indicated with a black arrow on the sign. Behind the street corner is a building with a shingled overhang supported by dark green columns. There are three or four hanging baskets with flowers hanging from the underside of the overhang. The building is brick and two stories, with two windows flanking a dark sign with pale text reading \"GREEN MAN Good Food.\" Behind the sign is a large amount of green climbing vine which obscures the sign for the next shop. There are the tops of two standing signs just visible in the foreground of the picture, and a couple of benches sitting on the sidewalk in front of the building.\"\n",
      "Caption may be too long\n",
      "Error: Could not cache item to /home/rajib/miniconda3/envs/dl_project/lib/python3.12/site-packages/pycocoevalcap/spice/cache with key:\n",
      "\"Three caucasian men are standing against a white wall. They are all wearing black shirts. The man on the far left is holding a white video game controller in his right hand. He has brown hair, and a brown beard and mustache. His shirt has long sleeves. The man in the middle has dark hair that is thinning around his temples. His arms are crossed across his chest, and his right hand is covering his mouth. The man on the far right is wearing a black sweatshirt with gray lettering. He also has a white video game controller in his right hand. He has brown hair, and brown facial hair. \"\n",
      "Caption may be too long\n",
      "Error: Could not cache item to /home/rajib/miniconda3/envs/dl_project/lib/python3.12/site-packages/pycocoevalcap/spice/cache with key:\n",
      "\"A woman and a little boy are sitting in bed looking at two cats.  The woman has glasses on and a long sleeved striped shirt.  The boy has short dark hair and is wearing a blue tshirt with a pattern on it and a red collar.  The two cats are lying on the bed next to eachother.  The cat on the left has white, orange, and black fur.  The cat on the right is black and grey striped.  The bed spread is blue colored and has a celestial pattern of suns and moons.  The headboard is made of wood.  Next to the bed is a nightstand made of wood.  On top of the night stand is a lamp, book, and several small items.  There is also a small table to the right of the picture with items on it.  The wall appears to be white.\"\n",
      "Caption may be too long\n",
      "Error: Could not cache item to /home/rajib/miniconda3/envs/dl_project/lib/python3.12/site-packages/pycocoevalcap/spice/cache with key:\n",
      "\"A Man sitting in a chair working on his laptop. The chair he is sitting in has a red towel drapped over the back and wooden arms. The man has short dark hair, and glasses. He is casually dressed in a sweatshirt, with a yellowish t-shirt underneath and shorts. He is using a plug in keyboard with his lap top, the key board is on a make shift lap table, made from two grey boxes. This allows him to put his keyboard and mouse on his lap. The laptop is on the table in front of him, propped up on a few books so that he can see it. Also on the table are a few other items. \"\n",
      "Caption may be too long\n",
      "Error: Could not cache item to /home/rajib/miniconda3/envs/dl_project/lib/python3.12/site-packages/pycocoevalcap/spice/cache with key:\n",
      "\"Four people wearing old-fashioned clothing stand posing in front of the camera. They are in a large building with a bright ceiling, and there is a black train behind them. There are two men on either side of two women. The man on the far left has a black suit, black shoes, and a black top hat. The woman to his right is wearing a white, pink, and green dress, with a white hat, and a broach pinned to her chest. She is holding a white satchel in her white-gloved hands. The woman next to her is also wearing white gloves and holding a white satchel. This woman has a green dress on, with lace on the trim. The man next to her is wearing a checkered vest underneath a dark long coat and dark pants. He has a black top hat. \"\n",
      "Caption may be too long\n",
      "Error: Could not cache item to /home/rajib/miniconda3/envs/dl_project/lib/python3.12/site-packages/pycocoevalcap/spice/cache with key:\n",
      "\"Two men are sitting on a bench. The bench is in front of a building with glass pane windows for walls. There is a drawing of a tree on the wall in the building. One of the men on the bench is sitting on the back of the of the bench with feet on the seat. He has on a tan shirt and tan pant and is talking on the phone. The other man is sitting on the bench seat and wearing a blue shirt with a design and a pair of short pants. There are two rolling suit cases sitting in front of the bench, one is lime green and the other is blue. \"\n",
      "Caption may be too long\n",
      "Error: Could not cache item to /home/rajib/miniconda3/envs/dl_project/lib/python3.12/site-packages/pycocoevalcap/spice/cache with key:\n",
      "\"The two sandwiches are in the white trays. The white trays are on the left on the table. The white trays in the front are both open so that the sandwiches can be seen. On the left are fries in a red and white container. The fries in the container are curly fries. The curly fries are spilling on the tray. The food is on the black tray. The tray is on the wood table. There is sauce in a white container behind the black tray in the front. The floors are made of wood and the photo was taken at a restaurant.\"\n",
      "Caption may be too long\n",
      "Error: Could not cache item to /home/rajib/miniconda3/envs/dl_project/lib/python3.12/site-packages/pycocoevalcap/spice/cache with key:\n",
      "\"A small bedroom is in view. The ceiling is high and angled into three white sections. The window is covered with a white set of curtains covered in little yellow flowers. The walls of the bedroom are painted yellow. There is a lamp and a black alarm clock on the bedside table beside a photo in a frame. The bedframe is brown wood, and the covers are white and yellow. There is a striped pillow on the bed, and a small picture above the headboard. There is a large dresser of brown wood to the right, with multiple small ceramic decorative objects adorning the surface. There is another small framed picture on the wall above the dresser. \"\n",
      "Caption may be too long\n",
      "Error: Could not cache item to /home/rajib/miniconda3/envs/dl_project/lib/python3.12/site-packages/pycocoevalcap/spice/cache with key:\n",
      "\"A cycling race with seven riders leaning to their right as they cross a street. They are a mixture of men and women and all are wearing cycling shorts and shirts which are covered in advertisements. One shirt clearly shows the word Mexico on the shoulders. They are all wearing cycling helmets and protective glasses. Six of the seven helmets are predominantly white but there is one bright yellow one visible. Behind the racers on the street is a white car with it's headlights on. The leaders of the race are wearing the same style of shirt.\"\n",
      "Caption may be too long\n",
      "Error: Could not cache item to /home/rajib/miniconda3/envs/dl_project/lib/python3.12/site-packages/pycocoevalcap/spice/cache with key:\n",
      "\"A group of animals is gathered in a field. There are elephants and rhinoceroses standing together near a watering hole. There are both younger and older animals here together. Some of the elephants are caked with mud after being in the water.  The rhinoceroses are walking toward the water while the elephants are facing the direction the rhinos are walking from. The elephants have large flapped ears and long trunks. The water hole is surrounded by tall green grass and trees with many green leaves on them.\"\n",
      "Caption may be too long\n",
      "Error: Could not cache item to /home/rajib/miniconda3/envs/dl_project/lib/python3.12/site-packages/pycocoevalcap/spice/cache with key:\n",
      "\"There are two people standing on a dock. The dock is wooden and extends out over a lake. The lake is white toward the back, and dark colored in the front. You can see ripples on the water. One person is sitting on the deck. That person is holding a blue umbrella over his or her head, so it not possible to see if the person is male or female. The person is wearing a green shirt and blue jeans. The legs are draped over the edge of the dock. A girl with long hair is standing beside the sitting person. She has long black hair, and we cannot see her face. She is wearing a black jacket and a pink shirt. She is also wearing black pants and black shoes. One of the shoes is partially off her foot. \"\n",
      "Caption may be too long\n",
      "Error: Could not cache item to /home/rajib/miniconda3/envs/dl_project/lib/python3.12/site-packages/pycocoevalcap/spice/cache with key:\n",
      "\"This is image is in black and white and shows a royal family traveling down a road in a carriage. The front of the photo shows the back of a man head taking photos. He is behind a gate with is aligned with officers. They all wear the same black uniform with black hats. Not far from them is one royal guard with a tall fuzzy hat. In the street the carriage is being pulled by four white horses. Two of them are being ridden by men in white with black hats. The carriage is black with UK flag waving on top. Behind the carriage a band of people in amour ride on horse. On the opposite a group of spectators watch the show.\"\n",
      "Caption may be too long\n",
      "Error: Could not cache item to /home/rajib/miniconda3/envs/dl_project/lib/python3.12/site-packages/pycocoevalcap/spice/cache with key:\n",
      "\"In a small kitchen with white walls, sink, door, and appliances, a younger man with brown hair and dressed in a black t-shirt and sweatpants with a red, white and green design going up the side, is turning a nob on the old gas stove. There is a pot and a baking pan on the stove, and several dish rags are hanging from the door handle. A cluttered rack is above it, full of scissors and other kitchen items. Bottles of flavorings and sauces line the small kitchen window. A large wood cutting board is on the small cabinet next to the stove. More items, that appear to be kitchen related are shoved in between the stove and the cabinet.\"\n",
      "Caption may be too long\n",
      "Error: Could not cache item to /home/rajib/miniconda3/envs/dl_project/lib/python3.12/site-packages/pycocoevalcap/spice/cache with key:\n",
      "\"The image is of a sign hanging on a black pole. The sign says \"Objazd\" in black lettering. To the left of the lettering is a solid black arrow which is pointing to the left. The sign's background is yellow. It has markings and scratches on it making it look worn. The sign is near the bottom of the picture. The pole does not have a top or bottom. In the background is blue sky with numerous clouds. The clouds are large and puffy. The picture was taken during the daytime since the clouds are out and the sky is blue. \"\n",
      "Caption may be too long\n",
      "Error: Could not cache item to /home/rajib/miniconda3/envs/dl_project/lib/python3.12/site-packages/pycocoevalcap/spice/cache with key:\n",
      "\"An exterior scene of a street, presumably in the commercial district of an English speaking part of the world, is seen. In the foreground is parked an SUV done up in camouflage colors of shades of green. It also has an orange sign on top. Behind it is parked a small blue car. Pedestrians can be seen on either side of the road on the wide sidewalks. Several shops line the street, including one with a large red sign with white lettering reading \"WAREHOUSE\" in the near distance. A blue paper and brown bag lie on the road in front of the SUV. There is a tree further back lining the road.\"\n",
      "Caption may be too long\n",
      "Error: Could not cache item to /home/rajib/miniconda3/envs/dl_project/lib/python3.12/site-packages/pycocoevalcap/spice/cache with key:\n",
      "\"A one car silver, white, and red train is on a track bordered with telephone poles strung with cables. To the left of the track is a dry, plowed field edged with green and yellow grass, and to the right of the tracks are small green bushes and a trees, then a large dry field that is not plowed, and then another field which long strips of green plats growing. Behind the field with the plants sits an expanse of more trees, some dry areas, and a forested mountain range can be seen in the distance. The day is sunny and bright.\"\n",
      "Caption may be too long\n",
      "Error: Could not cache item to /home/rajib/miniconda3/envs/dl_project/lib/python3.12/site-packages/pycocoevalcap/spice/cache with key:\n",
      "\"The image is a black and white photo. A young boy is sitting in the space between the poles of two parking meters off the ground. His arms are wrapped around the two meters and his feet are tucked behind the main bar supporting the two meters. He is smiling with his mouth wide open. He is dressed in warm weather clothing including dark shorts, a striped t-shirt, tennis shoes, and socks. His hair appears to be light colored. To the boy's left there is an older model car parked in a parking space. In the distance behind him there are several older model cars parked in a parking lot. The area is surrounded by mature trees. The concrete of the parking area in the foreground is stained from previous vehicles' fluid leakage. From the content of the photo and the models of vehicles, it appears this is a vintage photograph.\"\n",
      "Caption may be too long\n",
      "Error: Could not cache item to /home/rajib/miniconda3/envs/dl_project/lib/python3.12/site-packages/pycocoevalcap/spice/cache with key:\n",
      "\"A group of seven people dressed in ski clothes are standing together with their arms draped around each other. They are on top of a snow covered mountain, and another mountain with snow on it can be seen in the background. All but one of the group is wearing ski shoes, and five are holding their ski poles. Part of a building with a white roof is in the background, as well as part of the poles and cables of a ski lift. Three of the group are wearing red jackets, one is wearing a green jacket, one  is wearing a blue jacket, and two are wearing black jackets.\"\n",
      "Caption may be too long\n",
      "Error: Could not cache item to /home/rajib/miniconda3/envs/dl_project/lib/python3.12/site-packages/pycocoevalcap/spice/cache with key:\n",
      "\"A stuffed bunny rabbit sits on a windowsill. The stuffed critter has a black button nose, two deep set eyes, and two multicolored buttons going down its torso. It is \"wearing\" a black and white plaid jumper. This same black and white plaid fabric is used to represent the underside of the bunny's floppy ears and the underside of its feet and paws. The windowsill is of a rustic marble look, and the window panes behind the bunny are rectangular and feature dirty glass and dirty white window frames. The black box surrounding the tableau says 'left behind\" along with some writing underneath that.\"\n",
      "Caption may be too long\n",
      "Error: Could not cache item to /home/rajib/miniconda3/envs/dl_project/lib/python3.12/site-packages/pycocoevalcap/spice/cache with key:\n",
      "\"This was captured at tennis match.Only one side of the court is visible and on it is a male player with a blue head and wristband, a blue shirt,black shorts,a white bandage on his knee,white socks,and black and white shoes.In his hand,he is holding a black and yellow tennis racket.He is also standing on top of green court with the word Gerfor painted on it in white.Behind him is a man sitting on top of something sponsored by Adidas  with a wall next to him from other companies.The wall separates the crowd of people who range from young women,young males, and adult males who are waiting for the other person to serve.\"\n",
      "Caption may be too long\n",
      "Parsing test captions\n",
      "Warning: Nashorn engine is planned to be removed from a future JDK release\n"
     ]
    },
    {
     "name": "stdout",
     "output_type": "stream",
     "text": [
      "SPICE evaluation took: 11.05 s\n",
      "SPICE scores:\n",
      "0.15214098576590698\n"
     ]
    }
   ],
   "source": [
    "from pycocoevalcap.spice.spice import Spice\n",
    "spice = Spice()\n",
    "scores, detailed_scores = spice.compute_score(reference_captions_dict, generated_captions_dict)\n",
    "print(\"SPICE scores:\")\n",
    "print(scores)"
   ]
  },
  {
   "cell_type": "code",
   "execution_count": null,
   "metadata": {},
   "outputs": [],
   "source": []
  }
 ],
 "metadata": {
  "kernelspec": {
   "display_name": "Python 3",
   "language": "python",
   "name": "python3"
  },
  "language_info": {
   "codemirror_mode": {
    "name": "ipython",
    "version": 3
   },
   "file_extension": ".py",
   "mimetype": "text/x-python",
   "name": "python",
   "nbconvert_exporter": "python",
   "pygments_lexer": "ipython3",
   "version": "3.12.2"
  }
 },
 "nbformat": 4,
 "nbformat_minor": 2
}
