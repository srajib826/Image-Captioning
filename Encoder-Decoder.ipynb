{
 "cells": [
  {
   "cell_type": "code",
   "execution_count": 1,
   "metadata": {},
   "outputs": [
    {
     "name": "stderr",
     "output_type": "stream",
     "text": [
      "/home/rajib/miniconda3/envs/dl_project/lib/python3.12/site-packages/tqdm/auto.py:21: TqdmWarning: IProgress not found. Please update jupyter and ipywidgets. See https://ipywidgets.readthedocs.io/en/stable/user_install.html\n",
      "  from .autonotebook import tqdm as notebook_tqdm\n"
     ]
    }
   ],
   "source": [
    "import nltk\n",
    "import re\n",
    "import torch\n",
    "import pandas as pd\n",
    "import numpy as np\n",
    "import torch.nn as nn\n",
    "import torch.optim as optim\n",
    "from nltk.corpus import stopwords\n",
    "from nltk.tokenize import word_tokenize\n",
    "from tqdm.auto import tqdm\n",
    "from sklearn.model_selection import train_test_split\n",
    "from sklearn.metrics import f1_score\n",
    "from torch.utils.data import DataLoader, TensorDataset\n",
    "from sklearn.metrics import confusion_matrix\n",
    "from sklearn.metrics import classification_report\n",
    "import matplotlib.pyplot as plt\n",
    "#import seaborn as sns\n",
    "from torch.utils.data import Dataset, DataLoader\n",
    "from torchvision import transforms\n",
    "import torchvision.models as models\n",
    "from PIL import Image\n",
    "import os\n",
    "from torch.nn.utils.rnn import pack_padded_sequence"
   ]
  },
  {
   "cell_type": "code",
   "execution_count": 2,
   "metadata": {},
   "outputs": [],
   "source": [
    "df_train = pd.read_csv(\"/home/rajib/dl_project/custom_captions_dataset/train.csv\")\n",
    "df_test = pd.read_csv(\"/home/rajib/dl_project/custom_captions_dataset/test.csv\")\n",
    "df_val = pd.read_csv(\"/home/rajib/dl_project/custom_captions_dataset/val.csv\")"
   ]
  },
  {
   "cell_type": "code",
   "execution_count": 3,
   "metadata": {},
   "outputs": [
    {
     "data": {
      "text/plain": [
       "Index(['Unnamed: 0', 'filename', 'caption'], dtype='object')"
      ]
     },
     "execution_count": 3,
     "metadata": {},
     "output_type": "execute_result"
    }
   ],
   "source": [
    "df_train.columns"
   ]
  },
  {
   "cell_type": "code",
   "execution_count": 4,
   "metadata": {},
   "outputs": [
    {
     "data": {
      "text/html": [
       "<div>\n",
       "<style scoped>\n",
       "    .dataframe tbody tr th:only-of-type {\n",
       "        vertical-align: middle;\n",
       "    }\n",
       "\n",
       "    .dataframe tbody tr th {\n",
       "        vertical-align: top;\n",
       "    }\n",
       "\n",
       "    .dataframe thead th {\n",
       "        text-align: right;\n",
       "    }\n",
       "</style>\n",
       "<table border=\"1\" class=\"dataframe\">\n",
       "  <thead>\n",
       "    <tr style=\"text-align: right;\">\n",
       "      <th></th>\n",
       "      <th>filename</th>\n",
       "      <th>caption</th>\n",
       "    </tr>\n",
       "  </thead>\n",
       "  <tbody>\n",
       "    <tr>\n",
       "      <th>0</th>\n",
       "      <td>val_1.jpg</td>\n",
       "      <td>A group of men stand in the snow with skis. Th...</td>\n",
       "    </tr>\n",
       "    <tr>\n",
       "      <th>1</th>\n",
       "      <td>val_2.jpg</td>\n",
       "      <td>A small short haired brown dog walks down the ...</td>\n",
       "    </tr>\n",
       "    <tr>\n",
       "      <th>2</th>\n",
       "      <td>val_3.jpg</td>\n",
       "      <td>There are two elephants standing on the ground...</td>\n",
       "    </tr>\n",
       "    <tr>\n",
       "      <th>3</th>\n",
       "      <td>val_4.jpg</td>\n",
       "      <td>A very detailed hotel room. The bedding is blu...</td>\n",
       "    </tr>\n",
       "    <tr>\n",
       "      <th>4</th>\n",
       "      <td>val_5.jpg</td>\n",
       "      <td>Beautiful elephants are showed at a festival o...</td>\n",
       "    </tr>\n",
       "    <tr>\n",
       "      <th>...</th>\n",
       "      <td>...</td>\n",
       "      <td>...</td>\n",
       "    </tr>\n",
       "    <tr>\n",
       "      <th>941</th>\n",
       "      <td>val_942.jpg</td>\n",
       "      <td>A new stainless steel oven sits next to a refr...</td>\n",
       "    </tr>\n",
       "    <tr>\n",
       "      <th>942</th>\n",
       "      <td>val_943.jpg</td>\n",
       "      <td>A hard beige and gold color suitcase with a lo...</td>\n",
       "    </tr>\n",
       "    <tr>\n",
       "      <th>943</th>\n",
       "      <td>val_944.jpg</td>\n",
       "      <td>There is a boat with a sail on the shore of th...</td>\n",
       "    </tr>\n",
       "    <tr>\n",
       "      <th>944</th>\n",
       "      <td>val_945.jpg</td>\n",
       "      <td>Strips of an oily meat is layered over balls o...</td>\n",
       "    </tr>\n",
       "    <tr>\n",
       "      <th>945</th>\n",
       "      <td>val_946.jpg</td>\n",
       "      <td>This is a picture of a person. The person is w...</td>\n",
       "    </tr>\n",
       "  </tbody>\n",
       "</table>\n",
       "<p>946 rows × 2 columns</p>\n",
       "</div>"
      ],
      "text/plain": [
       "        filename                                            caption\n",
       "0      val_1.jpg  A group of men stand in the snow with skis. Th...\n",
       "1      val_2.jpg  A small short haired brown dog walks down the ...\n",
       "2      val_3.jpg  There are two elephants standing on the ground...\n",
       "3      val_4.jpg  A very detailed hotel room. The bedding is blu...\n",
       "4      val_5.jpg  Beautiful elephants are showed at a festival o...\n",
       "..           ...                                                ...\n",
       "941  val_942.jpg  A new stainless steel oven sits next to a refr...\n",
       "942  val_943.jpg  A hard beige and gold color suitcase with a lo...\n",
       "943  val_944.jpg  There is a boat with a sail on the shore of th...\n",
       "944  val_945.jpg  Strips of an oily meat is layered over balls o...\n",
       "945  val_946.jpg  This is a picture of a person. The person is w...\n",
       "\n",
       "[946 rows x 2 columns]"
      ]
     },
     "execution_count": 4,
     "metadata": {},
     "output_type": "execute_result"
    }
   ],
   "source": [
    "df_train.drop(['Unnamed: 0'],axis = 1)\n",
    "df_test.drop(['Unnamed: 0'],axis = 1)\n",
    "df_val.drop(['Unnamed: 0'],axis = 1)"
   ]
  },
  {
   "cell_type": "code",
   "execution_count": 5,
   "metadata": {},
   "outputs": [],
   "source": [
    "df_test['caption'] = df_test['caption'].apply(lambda x :x.lower())\n",
    "df_train['caption'] = df_train['caption'].apply(lambda x :x.lower())\n",
    "df_val['caption'] = df_val['caption'].apply(lambda x :x.lower())"
   ]
  },
  {
   "cell_type": "code",
   "execution_count": 6,
   "metadata": {},
   "outputs": [],
   "source": [
    "import string\n",
    "exclude = string.punctuation\n",
    "def remove_punc1(text):\n",
    "    return text.translate(str.maketrans('', '', exclude))\n",
    "    "
   ]
  },
  {
   "cell_type": "code",
   "execution_count": 7,
   "metadata": {},
   "outputs": [],
   "source": [
    "df_test['caption'] = df_test['caption'].apply(remove_punc1)\n",
    "df_train['caption'] = df_train['caption'].apply(remove_punc1)\n",
    "df_val['caption'] = df_val['caption'].apply(remove_punc1)"
   ]
  },
  {
   "cell_type": "markdown",
   "metadata": {},
   "source": [
    "## Vocabulary creation"
   ]
  },
  {
   "cell_type": "code",
   "execution_count": 8,
   "metadata": {},
   "outputs": [],
   "source": [
    "corpus = df_test['caption'].tolist() + df_train['caption'].tolist() + df_val['caption'].tolist()"
   ]
  },
  {
   "cell_type": "code",
   "execution_count": 9,
   "metadata": {},
   "outputs": [],
   "source": [
    "def tokenize_sentence(sentence):\n",
    "    return word_tokenize(sentence)  "
   ]
  },
  {
   "cell_type": "code",
   "execution_count": 10,
   "metadata": {},
   "outputs": [],
   "source": [
    "tokenized_corpus = [tokenize_sentence(x) for x in corpus]"
   ]
  },
  {
   "cell_type": "code",
   "execution_count": 11,
   "metadata": {},
   "outputs": [],
   "source": [
    "vocabulary = set()\n",
    "for tokens in tokenized_corpus:\n",
    "    vocabulary.update(tokens)"
   ]
  },
  {
   "cell_type": "code",
   "execution_count": 12,
   "metadata": {},
   "outputs": [],
   "source": [
    "word_to_idx, idx = {}, 4\n",
    "\n",
    "\n",
    "word_to_idx['<PAD>'] = 0\n",
    "word_to_idx['<START>'] = 1\n",
    "word_to_idx['<UNK>'] = 2\n",
    "word_to_idx['<END>'] = 3\n",
    "\n",
    "for token in vocabulary:\n",
    "    if token not in word_to_idx:\n",
    "        word_to_idx[token] = idx\n",
    "        idx += 1"
   ]
  },
  {
   "cell_type": "code",
   "execution_count": 13,
   "metadata": {},
   "outputs": [
    {
     "data": {
      "text/plain": [
       "9108"
      ]
     },
     "execution_count": 13,
     "metadata": {},
     "output_type": "execute_result"
    }
   ],
   "source": [
    "len(word_to_idx)"
   ]
  },
  {
   "cell_type": "code",
   "execution_count": 14,
   "metadata": {},
   "outputs": [],
   "source": [
    "idx_to_word = {value:key for key,value in word_to_idx.items()}"
   ]
  },
  {
   "cell_type": "code",
   "execution_count": 15,
   "metadata": {},
   "outputs": [],
   "source": [
    "caption_train, image_train = df_train['caption'].tolist(), df_train['filename'].tolist()"
   ]
  },
  {
   "cell_type": "code",
   "execution_count": 16,
   "metadata": {},
   "outputs": [],
   "source": [
    "caption_test, image_test = df_test['caption'].tolist(), df_test['filename'].tolist()\n",
    "caption_val, image_val = df_val['caption'].tolist(), df_val['filename'].tolist()"
   ]
  },
  {
   "cell_type": "code",
   "execution_count": 17,
   "metadata": {},
   "outputs": [],
   "source": [
    "token_train = [tokenize_sentence(x) for x in caption_train ]\n",
    "token_test = [tokenize_sentence(x) for x in caption_test ]\n",
    "token_val = [tokenize_sentence(x) for x in caption_val ]"
   ]
  },
  {
   "cell_type": "code",
   "execution_count": 18,
   "metadata": {},
   "outputs": [
    {
     "data": {
      "text/plain": [
       "69"
      ]
     },
     "execution_count": 18,
     "metadata": {},
     "output_type": "execute_result"
    }
   ],
   "source": [
    "len(token_train[0])"
   ]
  },
  {
   "cell_type": "code",
   "execution_count": 19,
   "metadata": {},
   "outputs": [],
   "source": [
    "max_len_train = max([len(seq) for seq in token_train])\n",
    "# max_len_test = max([len(seq) for seq in token_test])\n",
    "# max_len_val = max([len(seq) for seq in token_val])\n",
    "# print(max_len_train, max_len_test, max_len_val)"
   ]
  },
  {
   "cell_type": "code",
   "execution_count": 20,
   "metadata": {},
   "outputs": [],
   "source": [
    "padded_train = [seq + ['<PAD>']*(max_len_train - len(seq))for seq in token_train]\n",
    "padded_test = [seq + ['<PAD>']*(max_len_train - len(seq))for seq in token_test]\n",
    "padded_val = [seq + ['<PAD>']*(max_len_train - len(seq))for seq in token_val]\n"
   ]
  },
  {
   "cell_type": "code",
   "execution_count": 21,
   "metadata": {},
   "outputs": [
    {
     "data": {
      "text/plain": [
       "259"
      ]
     },
     "execution_count": 21,
     "metadata": {},
     "output_type": "execute_result"
    }
   ],
   "source": [
    "len(padded_test[0])"
   ]
  },
  {
   "cell_type": "markdown",
   "metadata": {},
   "source": [
    "## Custom DataSet Creation"
   ]
  },
  {
   "cell_type": "code",
   "execution_count": 22,
   "metadata": {},
   "outputs": [],
   "source": [
    "\n",
    "transform = transforms.Compose([\n",
    "    transforms.Resize((224, 224)),  # Resize images to 224x224\n",
    "    transforms.ToTensor(),           # Convert images to PyTorch tensors\n",
    "    transforms.Normalize(mean=[0.485, 0.456, 0.406], std=[0.229, 0.224, 0.225])  # Normalize images\n",
    "])\n",
    "\n",
    "\n",
    "\n",
    "class CustomDataset(Dataset):\n",
    "    \n",
    "    def __init__(self, image_dir, image_filename_list, captions_list, transform = transform, word_to_idx = None):\n",
    "        self.image_dir = image_dir\n",
    "        self.captions_list = captions_list\n",
    "        self.image_filename_list = image_filename_list\n",
    "        self.transform = transform\n",
    "        self.word_to_idx = word_to_idx\n",
    "        \n",
    "\n",
    "    def __len__(self):\n",
    "        return len(self.captions_list)\n",
    "\n",
    "    def __getitem__(self, idx):\n",
    "        img_name = os.path.join(self.image_dir, self.image_filename_list[idx])\n",
    "        image = Image.open(img_name).convert('RGB')\n",
    "        if self.transform:\n",
    "            image = self.transform(image)\n",
    "\n",
    "        caption = [self.word_to_idx['<START>']] + [self.word_to_idx[word] if word in word_to_idx else self.word_to_idx['<UNK>'] for word in self.captions_list[idx]] + [self.word_to_idx['<END>']]\n",
    "        return image, torch.tensor(caption)"
   ]
  },
  {
   "cell_type": "code",
   "execution_count": 23,
   "metadata": {},
   "outputs": [],
   "source": [
    "image_dir = \"/home/rajib/dl_project/custom_captions_dataset/train\"\n",
    "captions_list = padded_train\n",
    "image_filename_list = image_train\n",
    "dataset_train = CustomDataset(image_dir,image_filename_list, captions_list, word_to_idx=word_to_idx)\n",
    "data_loader_train = DataLoader(dataset_train, batch_size= 16, shuffle= True)\n"
   ]
  },
  {
   "cell_type": "code",
   "execution_count": 24,
   "metadata": {},
   "outputs": [
    {
     "name": "stdout",
     "output_type": "stream",
     "text": [
      "torch.Size([16, 3, 224, 224]) torch.Size([16, 261])\n"
     ]
    }
   ],
   "source": [
    "img, caption = next(iter(data_loader_train))\n",
    "print(img.shape, caption.shape)"
   ]
  },
  {
   "cell_type": "code",
   "execution_count": 25,
   "metadata": {},
   "outputs": [],
   "source": [
    "image_dir = \"/home/rajib/dl_project/custom_captions_dataset/test\"\n",
    "captions_list = padded_test\n",
    "image_filename_list = image_test\n",
    "dataset_test = CustomDataset(image_dir,image_filename_list, captions_list, word_to_idx=word_to_idx)\n",
    "data_loader_test = DataLoader(dataset_test, batch_size= 16, shuffle= True)\n",
    "\n",
    "\n",
    "image_dir = \"/home/rajib/dl_project/custom_captions_dataset/val\"\n",
    "captions_list = padded_val\n",
    "image_filename_list = image_val\n",
    "dataset_val = CustomDataset(image_dir,image_filename_list, captions_list, word_to_idx=word_to_idx)\n",
    "data_loader_val = DataLoader(dataset_val, batch_size= 16, shuffle= True)\n",
    "\n"
   ]
  },
  {
   "cell_type": "markdown",
   "metadata": {},
   "source": [
    "## Model Architecture"
   ]
  },
  {
   "cell_type": "code",
   "execution_count": 26,
   "metadata": {},
   "outputs": [],
   "source": [
    "class EncoderCNN(nn.Module):\n",
    "    def __init__(self, embed_size):\n",
    "        super(EncoderCNN, self).__init__()\n",
    "        resnet = models.resnet50(pretrained=True)\n",
    "        modules = list(resnet.children())[:-1]  # Remove the last layer (fully connected layer)\n",
    "        self.resnet = nn.Sequential(*modules)\n",
    "        self.embed = nn.Linear(resnet.fc.in_features, embed_size)\n",
    "        self.bn = nn.BatchNorm1d(embed_size, momentum=0.01)\n",
    "        \n",
    "    def forward(self, images):\n",
    "        features = self.resnet(images)\n",
    "        features = features.view(features.size(0), -1)\n",
    "        features = self.bn(self.embed(features))\n",
    "        return features"
   ]
  },
  {
   "cell_type": "code",
   "execution_count": 27,
   "metadata": {},
   "outputs": [
    {
     "name": "stderr",
     "output_type": "stream",
     "text": [
      "/home/rajib/miniconda3/envs/dl_project/lib/python3.12/site-packages/torchvision/models/_utils.py:208: UserWarning: The parameter 'pretrained' is deprecated since 0.13 and may be removed in the future, please use 'weights' instead.\n",
      "  warnings.warn(\n",
      "/home/rajib/miniconda3/envs/dl_project/lib/python3.12/site-packages/torchvision/models/_utils.py:223: UserWarning: Arguments other than a weight enum or `None` for 'weights' are deprecated since 0.13 and may be removed in the future. The current behavior is equivalent to passing `weights=ResNet50_Weights.IMAGENET1K_V1`. You can also use `weights=ResNet50_Weights.DEFAULT` to get the most up-to-date weights.\n",
      "  warnings.warn(msg)\n"
     ]
    },
    {
     "name": "stdout",
     "output_type": "stream",
     "text": [
      "torch.Size([16, 100])\n"
     ]
    }
   ],
   "source": [
    "cnn = EncoderCNN(100)\n",
    "x = torch.randn([16, 3, 224, 224])\n",
    "y = cnn(x)\n",
    "print(y.shape)"
   ]
  },
  {
   "cell_type": "code",
   "execution_count": 28,
   "metadata": {},
   "outputs": [
    {
     "name": "stdout",
     "output_type": "stream",
     "text": [
      "torch.Size([16, 1, 100])\n"
     ]
    }
   ],
   "source": [
    "print(y.unsqueeze(1).shape)\n",
    "vocab_size = len(word_to_idx)\n"
   ]
  },
  {
   "cell_type": "code",
   "execution_count": 29,
   "metadata": {},
   "outputs": [
    {
     "ename": "TypeError",
     "evalue": "object of type 'Embedding' has no len()",
     "output_type": "error",
     "traceback": [
      "\u001b[0;31m---------------------------------------------------------------------------\u001b[0m",
      "\u001b[0;31mTypeError\u001b[0m                                 Traceback (most recent call last)",
      "Cell \u001b[0;32mIn[29], line 2\u001b[0m\n\u001b[1;32m      1\u001b[0m embed \u001b[38;5;241m=\u001b[39m nn\u001b[38;5;241m.\u001b[39mEmbedding(vocab_size, \u001b[38;5;241m100\u001b[39m)\n\u001b[0;32m----> 2\u001b[0m \u001b[38;5;28mprint\u001b[39m(\u001b[38;5;28;43mlen\u001b[39;49m\u001b[43m(\u001b[49m\u001b[43membed\u001b[49m\u001b[43m)\u001b[49m)\n",
      "\u001b[0;31mTypeError\u001b[0m: object of type 'Embedding' has no len()"
     ]
    }
   ],
   "source": [
    "embed = nn.Embedding(vocab_size, 100)\n",
    "print(len(embed))"
   ]
  },
  {
   "cell_type": "code",
   "execution_count": 30,
   "metadata": {},
   "outputs": [],
   "source": [
    "class DecoderRNN(nn.Module):\n",
    "    def __init__(self, embed_size, hidden_size, vocab_size, num_layers, max_seq_length=20):\n",
    "        \"\"\"Set the hyper-parameters and build the layers.\"\"\"\n",
    "        super(DecoderRNN, self).__init__()\n",
    "        self.embed = nn.Embedding(vocab_size, embed_size)\n",
    "        self.lstm = nn.LSTM(embed_size, hidden_size, num_layers, batch_first=True)\n",
    "        self.linear = nn.Linear(hidden_size, vocab_size)\n",
    "        self.max_seg_length = max_seq_length\n",
    "        \n",
    "    def forward(self, features, captions):\n",
    "        \"\"\"Decode image feature vectors and generates captions.\"\"\"\n",
    "        embeddings = self.embed(captions)\n",
    "        embeddings = torch.cat((features.unsqueeze(1), embeddings), 1)\n",
    "        packed = pack_padded_sequence(embeddings,lengths = [len(cap)-1 for cap in captions] ,batch_first=True) \n",
    "        hiddens, _ = self.lstm(packed)\n",
    "        outputs = self.linear(hiddens[0])\n",
    "        return outputs\n",
    "    \n",
    "    def sample(self, features, states=None):\n",
    "        \"\"\"Generate captions for given image features using greedy search.\"\"\"\n",
    "        sampled_ids = []\n",
    "        inputs = features.unsqueeze(1)\n",
    "        for i in range(self.max_seg_length):\n",
    "            hiddens, states = self.lstm(inputs, states)          # hiddens: (batch_size, 1, hidden_size)\n",
    "            outputs = self.linear(hiddens.squeeze(1))            # outputs:  (batch_size, vocab_size)\n",
    "            _, predicted = outputs.max(1)                        # predicted: (batch_size)\n",
    "            sampled_ids.append(predicted)\n",
    "            inputs = self.embed(predicted)                       # inputs: (batch_size, embed_size)\n",
    "            inputs = inputs.unsqueeze(1)                         # inputs: (batch_size, 1, embed_size)\n",
    "        sampled_ids = torch.stack(sampled_ids, 1)                # sampled_ids: (batch_size, max_seq_length)\n",
    "        return sampled_ids"
   ]
  },
  {
   "cell_type": "code",
   "execution_count": 31,
   "metadata": {},
   "outputs": [
    {
     "data": {
      "text/plain": [
       "device(type='cuda')"
      ]
     },
     "execution_count": 31,
     "metadata": {},
     "output_type": "execute_result"
    }
   ],
   "source": [
    "device = device = torch.device('cuda' if torch.cuda.is_available() else 'cpu')\n",
    "device"
   ]
  },
  {
   "cell_type": "markdown",
   "metadata": {},
   "source": [
    "## Trianing Loop"
   ]
  },
  {
   "cell_type": "code",
   "execution_count": 32,
   "metadata": {},
   "outputs": [],
   "source": [
    "# # Define hyperparameters\n",
    "# embed_size = 256\n",
    "# hidden_size = 512\n",
    "# num_layers = 1\n",
    "# max_seq_length = 256\n",
    "# learning_rate = 0.001\n",
    "# num_epochs = 10\n",
    "# vocab_size = len(word_to_idx)\n",
    "\n",
    "# # Initialize the encoder and decoder\n",
    "# encoder = EncoderCNN(embed_size)\n",
    "# decoder = DecoderRNN(embed_size, hidden_size, vocab_size, num_layers, max_seq_length)\n",
    "# encoder = encoder.to(device)\n",
    "# decoder = decoder.to(device)\n",
    "\n",
    "# # Define loss function and optimizer\n",
    "# criterion = nn.CrossEntropyLoss()\n",
    "# parameters = list(encoder.parameters()) + list(decoder.parameters())\n",
    "# optimizer = torch.optim.Adam(parameters, lr=learning_rate)\n",
    "\n",
    "# encoder.train()\n",
    "# decoder.train()\n",
    "# # Training loop\n",
    "# for epoch in tqdm(range(num_epochs)):\n",
    "#     total_loss = 0\n",
    "#     for _,(images,captions) in enumerate(data_loader_train):\n",
    "#         # Move inputs to device\n",
    "#         images = images.to(device)\n",
    "#         captions = captions.to(device)\n",
    "       \n",
    "        \n",
    "#         # Zero gradients\n",
    "#         optimizer.zero_grad()\n",
    "        \n",
    "#         # Forward pass\n",
    "#         features = encoder(images)\n",
    "#         outputs = decoder(features, captions )\n",
    "        \n",
    "#         # Calculate loss\n",
    "#         targets = pack_padded_sequence(captions, lengths =[len(cap)-1 for cap in captions], batch_first=True).data\n",
    "#         loss = criterion(outputs, targets)\n",
    "        \n",
    "#         # Backward pass\n",
    "#         loss.backward()\n",
    "        \n",
    "#         # Update weights\n",
    "#         optimizer.step()\n",
    "        \n",
    "#         total_loss += loss.item()\n",
    "    \n",
    "#     # Print average loss for the epoch\n",
    "#     print(f'Epoch [{epoch + 1}/{num_epochs}], Loss: {total_loss / len(data_loader_train)}')\n"
   ]
  },
  {
   "cell_type": "code",
   "execution_count": 33,
   "metadata": {},
   "outputs": [
    {
     "name": "stderr",
     "output_type": "stream",
     "text": [
      " 10%|█         | 1/10 [00:43<06:30, 43.34s/it]"
     ]
    },
    {
     "name": "stdout",
     "output_type": "stream",
     "text": [
      "Epoch [1/10], train_loss: 1.2881176405112837\n",
      "Epoch[1/10], validation_loss: 1.03473695119222\n"
     ]
    },
    {
     "name": "stderr",
     "output_type": "stream",
     "text": [
      " 20%|██        | 2/10 [01:26<05:44, 43.07s/it]"
     ]
    },
    {
     "name": "stdout",
     "output_type": "stream",
     "text": [
      "Epoch [2/10], train_loss: 0.9440558797487334\n",
      "Epoch[2/10], validation_loss: 0.9375769972801209\n"
     ]
    },
    {
     "name": "stderr",
     "output_type": "stream",
     "text": [
      " 30%|███       | 3/10 [02:09<05:01, 43.06s/it]"
     ]
    },
    {
     "name": "stdout",
     "output_type": "stream",
     "text": [
      "Epoch [3/10], train_loss: 0.8554477292066179\n",
      "Epoch[3/10], validation_loss: 0.8830144594113032\n"
     ]
    },
    {
     "name": "stderr",
     "output_type": "stream",
     "text": [
      " 40%|████      | 4/10 [02:52<04:18, 43.09s/it]"
     ]
    },
    {
     "name": "stdout",
     "output_type": "stream",
     "text": [
      "Epoch [4/10], train_loss: 0.7932368094028708\n",
      "Epoch[4/10], validation_loss: 0.8558510522047679\n"
     ]
    },
    {
     "name": "stderr",
     "output_type": "stream",
     "text": [
      " 50%|█████     | 5/10 [03:35<03:35, 43.09s/it]"
     ]
    },
    {
     "name": "stdout",
     "output_type": "stream",
     "text": [
      "Epoch [5/10], train_loss: 0.7415505091571275\n",
      "Epoch[5/10], validation_loss: 0.8404101659854253\n"
     ]
    },
    {
     "name": "stderr",
     "output_type": "stream",
     "text": [
      " 60%|██████    | 6/10 [04:18<02:52, 43.03s/it]"
     ]
    },
    {
     "name": "stdout",
     "output_type": "stream",
     "text": [
      "Epoch [6/10], train_loss: 0.6964933997092966\n",
      "Epoch[6/10], validation_loss: 0.8250454117854437\n"
     ]
    },
    {
     "name": "stderr",
     "output_type": "stream",
     "text": [
      " 70%|███████   | 7/10 [05:01<02:09, 43.02s/it]"
     ]
    },
    {
     "name": "stdout",
     "output_type": "stream",
     "text": [
      "Epoch [7/10], train_loss: 0.6563055052437596\n",
      "Epoch[7/10], validation_loss: 0.823329379161199\n"
     ]
    },
    {
     "name": "stderr",
     "output_type": "stream",
     "text": [
      " 80%|████████  | 8/10 [05:44<01:26, 43.01s/it]"
     ]
    },
    {
     "name": "stdout",
     "output_type": "stream",
     "text": [
      "Epoch [8/10], train_loss: 0.6184996092619177\n",
      "Epoch[8/10], validation_loss: 0.8305084228515625\n"
     ]
    },
    {
     "name": "stderr",
     "output_type": "stream",
     "text": [
      " 90%|█████████ | 9/10 [06:27<00:42, 42.98s/it]"
     ]
    },
    {
     "name": "stdout",
     "output_type": "stream",
     "text": [
      "Epoch [9/10], train_loss: 0.5809430382604706\n",
      "Epoch[9/10], validation_loss: 0.8281072149674098\n"
     ]
    },
    {
     "name": "stderr",
     "output_type": "stream",
     "text": [
      "100%|██████████| 10/10 [07:10<00:00, 43.02s/it]"
     ]
    },
    {
     "name": "stdout",
     "output_type": "stream",
     "text": [
      "Epoch [10/10], train_loss: 0.5464132850230073\n",
      "Epoch[10/10], validation_loss: 0.8357754349708557\n"
     ]
    },
    {
     "name": "stderr",
     "output_type": "stream",
     "text": [
      "\n"
     ]
    }
   ],
   "source": [
    "# Define hyperparameters\n",
    "embed_size = 256\n",
    "hidden_size = 512\n",
    "num_layers = 1\n",
    "max_seq_length = 256\n",
    "learning_rate = 0.001\n",
    "num_epochs = 10\n",
    "vocab_size = len(word_to_idx)\n",
    "\n",
    "# Initialize the encoder and decoder\n",
    "encoder = EncoderCNN(embed_size)\n",
    "decoder = DecoderRNN(embed_size, hidden_size, vocab_size, num_layers, max_seq_length)\n",
    "encoder = encoder.to(device)\n",
    "decoder = decoder.to(device)\n",
    "\n",
    "# Define loss function and optimizer\n",
    "criterion = nn.CrossEntropyLoss()\n",
    "parameters = list(encoder.parameters()) + list(decoder.parameters())\n",
    "optimizer = torch.optim.Adam(parameters, lr=learning_rate)\n",
    "\n",
    "encoder.train()\n",
    "decoder.train()\n",
    "# Training loop\n",
    "for epoch in tqdm(range(num_epochs)):\n",
    "    total_loss = 0\n",
    "    total_validation_loss = 0\n",
    "    for _,(images,captions) in enumerate(data_loader_train):\n",
    "        # Move inputs to device\n",
    "        images = images.to(device)\n",
    "        captions = captions.to(device)\n",
    "       \n",
    "        \n",
    "        # Zero gradients\n",
    "        optimizer.zero_grad()\n",
    "        \n",
    "        # Forward pass\n",
    "        features = encoder(images)\n",
    "        outputs = decoder(features, captions )\n",
    "        \n",
    "        # Calculate loss\n",
    "        targets = pack_padded_sequence(captions, lengths =[len(cap)-1 for cap in captions], batch_first=True).data\n",
    "        loss = criterion(outputs, targets)\n",
    "        \n",
    "        # Backward pass\n",
    "        loss.backward()\n",
    "        \n",
    "        # Update weights\n",
    "        optimizer.step()\n",
    "        \n",
    "        total_loss += loss.item()\n",
    "\n",
    "\n",
    "     ### validation set\n",
    "    for images, captions_val in data_loader_val:\n",
    "\n",
    "        images = images.to(device)\n",
    "        captions_val = captions_val.to(device)\n",
    "        \n",
    "        \n",
    "        features_val = encoder(images)\n",
    "        output_val = decoder(features_val,captions_val )\n",
    "        targets_val = pack_padded_sequence(captions_val, lengths =[len(cap)-1 for cap in captions_val], batch_first=True).data\n",
    "        loss = criterion(output_val, targets_val)\n",
    "        total_validation_loss += loss.item()\n",
    "    \n",
    "    \n",
    "    \n",
    "    # Print average loss for the epoch\n",
    "    print(f'Epoch [{epoch + 1}/{num_epochs}], train_loss: {total_loss / len(data_loader_train)}')\n",
    "    print(f'Epoch[{epoch + 1}/{num_epochs}], validation_loss: {total_validation_loss / len(data_loader_val)}')\n"
   ]
  },
  {
   "cell_type": "markdown",
   "metadata": {},
   "source": [
    "## Validation Set"
   ]
  },
  {
   "cell_type": "code",
   "execution_count": 34,
   "metadata": {},
   "outputs": [],
   "source": [
    "\n",
    "\n",
    "\n",
    "with torch.no_grad():\n",
    "    test_generated_list = [] \n",
    "    for images, captions in data_loader_test:\n",
    "       \n",
    "        images = images.to(device)\n",
    "        captions = captions.to(device)\n",
    "        \n",
    "       \n",
    "        features = encoder(images)\n",
    "        sampled_ids = decoder.sample(features)\n",
    "        sampled_ids = sampled_ids[0].cpu().numpy()          # (1, max_seq_length) -> (max_seq_length)\n",
    "        \n",
    "        # Convert word_ids to words\n",
    "        sampled_caption = []\n",
    "        for x in sampled_ids:\n",
    "            word = idx_to_word[x]\n",
    "            sampled_caption.append(word)\n",
    "            if word == '<end>':\n",
    "                break\n",
    "        sentence = ' '.join(sampled_caption)\n",
    "        test_generated_list.append(sentence)     ##### Generated list of test_data\n",
    "        \n",
    "        # Print out the image and the generated caption\n",
    "        # print (sentence)\n",
    "        # image = Image.open(images.cpu())\n",
    "        # plt.imshow(np.asarray(image))\n",
    "\n"
   ]
  },
  {
   "cell_type": "code",
   "execution_count": null,
   "metadata": {},
   "outputs": [],
   "source": []
  },
  {
   "cell_type": "code",
   "execution_count": 36,
   "metadata": {},
   "outputs": [],
   "source": [
    "with torch.no_grad():\n",
    "    test_original = []\n",
    "    for images, captions in data_loader_test:\n",
    "        index = captions[0].numpy()\n",
    "       \n",
    "\n",
    "        sampled_caption = []\n",
    "        for x in index:\n",
    "            word = idx_to_word[x]\n",
    "            sampled_caption.append(word)\n",
    "            if word == '<end>':\n",
    "                break\n",
    "        sentence = ' '.join(sampled_caption) \n",
    "        test_original.append(sentence) \n",
    "        \n",
    "            \n",
    "\n",
    "    "
   ]
  },
  {
   "cell_type": "markdown",
   "metadata": {},
   "source": [
    "## ROUGE L "
   ]
  },
  {
   "cell_type": "code",
   "execution_count": 38,
   "metadata": {},
   "outputs": [],
   "source": [
    "from rouge_score import rouge_scorer\n",
    "from rouge_score import rouge\n",
    "import evaluate\n"
   ]
  },
  {
   "cell_type": "code",
   "execution_count": 39,
   "metadata": {},
   "outputs": [
    {
     "name": "stdout",
     "output_type": "stream",
     "text": [
      "0.49152938037750965\n"
     ]
    }
   ],
   "source": [
    "rouge = evaluate.load('rouge')\n",
    "# predictions = [\"<'START'>hello there<'END'>\", \"<'START'>general <'PAD'> kenobi<'END'>\"]\n",
    "# references = [\"<'START'>hello there<'END'>\", \"<'START'>general kenobi<'END'>\"]\n",
    "results = rouge.compute(predictions = test_generated_list, references = test_original)\n",
    "print(results['rougeL'])"
   ]
  },
  {
   "cell_type": "code",
   "execution_count": 1,
   "metadata": {},
   "outputs": [
    {
     "name": "stderr",
     "output_type": "stream",
     "text": [
      "/home/rajib/miniconda3/envs/dl_project/lib/python3.12/site-packages/tqdm/auto.py:21: TqdmWarning: IProgress not found. Please update jupyter and ipywidgets. See https://ipywidgets.readthedocs.io/en/stable/user_install.html\n",
      "  from .autonotebook import tqdm as notebook_tqdm\n"
     ]
    },
    {
     "ename": "ImportError",
     "evalue": "cannot import name 'coco_cider_d' from 'aac_metrics.functional' (/home/rajib/miniconda3/envs/dl_project/lib/python3.12/site-packages/aac_metrics/functional/__init__.py)",
     "output_type": "error",
     "traceback": [
      "\u001b[0;31m---------------------------------------------------------------------------\u001b[0m",
      "\u001b[0;31mImportError\u001b[0m                               Traceback (most recent call last)",
      "Cell \u001b[0;32mIn[1], line 1\u001b[0m\n\u001b[0;32m----> 1\u001b[0m \u001b[38;5;28;01mfrom\u001b[39;00m \u001b[38;5;21;01maac_metrics\u001b[39;00m\u001b[38;5;21;01m.\u001b[39;00m\u001b[38;5;21;01mfunctional\u001b[39;00m \u001b[38;5;28;01mimport\u001b[39;00m coco_cider_d\n\u001b[1;32m      2\u001b[0m \u001b[38;5;28;01mfrom\u001b[39;00m \u001b[38;5;21;01maac_metrics\u001b[39;00m\u001b[38;5;21;01m.\u001b[39;00m\u001b[38;5;21;01mutils\u001b[39;00m\u001b[38;5;21;01m.\u001b[39;00m\u001b[38;5;21;01mtokenization\u001b[39;00m \u001b[38;5;28;01mimport\u001b[39;00m preprocess_mono_sents, preprocess_mult_sents\n",
      "\u001b[0;31mImportError\u001b[0m: cannot import name 'coco_cider_d' from 'aac_metrics.functional' (/home/rajib/miniconda3/envs/dl_project/lib/python3.12/site-packages/aac_metrics/functional/__init__.py)"
     ]
    }
   ],
   "source": [
    "from aac_metrics.functional import coco_cider_d\n",
    "from aac_metrics.utils.tokenization import preprocess_mono_sents, preprocess_mult_sents\n"
   ]
  },
  {
   "cell_type": "code",
   "execution_count": 10,
   "metadata": {},
   "outputs": [],
   "source": [
    "from datasets import list_metrics\n",
    "from datasets import load_metric\n"
   ]
  },
  {
   "cell_type": "code",
   "execution_count": null,
   "metadata": {},
   "outputs": [],
   "source": [
    "metric = load_metric('rouge')\n",
    "metrics_list = list_metrics()\n",
    "len(metrics_list)\n",
    "for m in metrics_list:\n",
    "    print(m)\n",
    "    print(\"\\n\")\n"
   ]
  },
  {
   "cell_type": "code",
   "execution_count": null,
   "metadata": {},
   "outputs": [],
   "source": []
  }
 ],
 "metadata": {
  "kernelspec": {
   "display_name": "Python 3",
   "language": "python",
   "name": "python3"
  },
  "language_info": {
   "codemirror_mode": {
    "name": "ipython",
    "version": 3
   },
   "file_extension": ".py",
   "mimetype": "text/x-python",
   "name": "python",
   "nbconvert_exporter": "python",
   "pygments_lexer": "ipython3",
   "version": "3.12.2"
  }
 },
 "nbformat": 4,
 "nbformat_minor": 2
}
